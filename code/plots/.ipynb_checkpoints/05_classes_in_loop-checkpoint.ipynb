{
 "cells": [
  {
   "cell_type": "code",
   "execution_count": 1,
   "id": "optional-inspiration",
   "metadata": {},
   "outputs": [],
   "source": [
    "import pandas as pd\n",
    "import numpy as np\n",
    "import seaborn as sns\n",
    "import matplotlib.pyplot as plt\n",
    "import matplotlib.colors\n",
    "import glob\n",
    "import os\n",
    "\n",
    "import sys\n",
    "sys.path.append(\"../\")\n",
    "\n",
    "from early_sn_classifier import *\n",
    "from classifier_sigmoid import *"
   ]
  },
  {
   "cell_type": "code",
   "execution_count": 2,
   "id": "headed-pickup",
   "metadata": {},
   "outputs": [],
   "source": [
    "data_dir = '../../../zenodo/'"
   ]
  },
  {
   "cell_type": "code",
   "execution_count": 3,
   "id": "neural-lebanon",
   "metadata": {},
   "outputs": [],
   "source": [
    "# construct big classification\n",
    "big_class = {}\n",
    "big_class['multiple_object'] = ['EB*', 'EllipVar', 'Symbiotic*','SB*','DQHer', \n",
    "                                'Nova-like','EB*betLyr','AMHer','Nova','EB*Algol',\n",
    "                                'EB*WUMa','CataclyV*',\n",
    "                                  'DwarfNova','EB*']\n",
    "big_class['star'] = ['brownD*','SG*','RCrB_Candidate', 'HV*', 'WR*', 'YellowSG*','gammaDor','RotV*alf2CVn',\n",
    "                     'Erupt*RCrB','BlueStraggler','Eruptive*','V*?', 'Pulsar', \n",
    "                     'PulsV*bCep','low-mass*','post-AGB*', 'Pec*','pMS*','HotSubdwarf',\n",
    "                     'PM*','*inNeb','pulsV*SX','RGB*','HB*','BYDra',\n",
    "                       'PulsV*RVTau', 'BlueSG*','Irregular_V*','WD*','Ae*','RedSG*',\n",
    "                     'AGB*','OH/IR','Be*','Cepheid','PulsV*delSct','RotV*','PulsV*',\n",
    "                       'PulsV*WVir','S*','RSCVn','deltaCep','TTau*','Em*','Orion_V*',\n",
    "                     'YSO','V*','C*','Mira','LPV*','Star','RRLyr']\n",
    "big_class['AGN-like'] = ['LINER','Blazar','AGN','BLLac','QSO','Galaxy']\n",
    "big_class['other_SN'] = ['SNIb-pec', 'SNIb/c','SNII-pec','SN', 'SNIbn','SNIc-BL','SNI',\n",
    "                   'SNIb','SNIIb','SLSN-II','SNIIP','SLSN-I','SNIc','SNIIn','SNII',\n",
    "                  'SN Ibn','SN Ic-BL','SN I', 'SN Ib','SN IIb','SN IIP', 'SN Ic','SN IIn',\n",
    "                   'SN II', 'SN Icn', 'SN Ib/c','SN Ib-pec','SN IIL', 'SN II-pec', 'SNIcn']\n",
    "big_class['other_TNS'] = ['Mdwarf', 'LBV','TDE','Other','CV','Varstar', 'M dwarf','LRN',\n",
    "                          'FRB']\n",
    "big_class['SNIa'] = ['Ia', 'SN Ia', 'SN Ia-91T-like', 'SN Ia-91bg-like', 'SN Ia-CSM', \n",
    "                'SN Ia-pec', 'SN Iax[02cx-like]']\n",
    "\n",
    "\n",
    "# reverse it\n",
    "class_dict = {}\n",
    "for key in big_class.keys():\n",
    "    for item in big_class[key]:\n",
    "        class_dict[item] = key"
   ]
  },
  {
   "cell_type": "code",
   "execution_count": 4,
   "id": "subtle-vessel",
   "metadata": {},
   "outputs": [],
   "source": [
    "fname = data_dir + '/data/features.csv'\n",
    "features = pd.read_csv(fname, index_col=False)"
   ]
  },
  {
   "cell_type": "code",
   "execution_count": 5,
   "id": "decimal-reputation",
   "metadata": {},
   "outputs": [],
   "source": [
    "dirname = data_dir + '/UncSampling/queries/'\n",
    "\n",
    "flist = glob.glob(dirname + '*.dat')\n",
    "\n",
    "tot = 0\n",
    "\n",
    "queries = {}\n",
    "ids = []\n",
    "\n",
    "for i in range(len(flist)):\n",
    "    data = pd.read_csv(flist[i], delim_whitespace=True, skiprows=1, \n",
    "                       names = ['mute'] + list(features.keys()), \n",
    "                       index_col=False)\n",
    "    data['big_class'] = None\n",
    "    \n",
    "    for j in range(data.shape[0]):\n",
    "        data.loc[j, 'big_class'] = class_dict[data.iloc[j]['type']]\n",
    "    \n",
    "    types, freq = np.unique(data['big_class'].values, return_counts=True)\n",
    "    \n",
    "    tot = tot + data.shape[0]\n",
    "    \n",
    "    for j in range(len(types)):\n",
    "        if types[j] in queries.keys():\n",
    "            queries[types[j]].append(freq[j])\n",
    "        else:\n",
    "            queries[types[j]] = [freq[j]]\n",
    "            \n",
    "    data['iteration'] = i\n",
    "    data['loop'] = np.arange(300)\n",
    "    ids.append(data[['id', 'type', 'iteration', 'loop', 'big_class', 'nrise_r', 'nrise_g']])\n",
    "    \n",
    "ids2 = pd.concat(ids, ignore_index=True)\n",
    "ids2['strategy'] = 'UncSampling'"
   ]
  },
  {
   "cell_type": "code",
   "execution_count": 6,
   "id": "bridal-conspiracy",
   "metadata": {},
   "outputs": [],
   "source": [
    "norm = matplotlib.colors.Normalize(-1,1)\n",
    "colors = [[norm(-1.0), '#F5622E'],\n",
    "          [norm( 1.0), '#15284F']]\n",
    "\n",
    "cmap = matplotlib.colors.LinearSegmentedColormap.from_list(\"\", colors)"
   ]
  },
  {
   "cell_type": "code",
   "execution_count": 7,
   "id": "caroline-builder",
   "metadata": {},
   "outputs": [
    {
     "data": {
      "image/png": "[encoded data removed]",
      "text/plain": [
       "<Figure size 576x360 with 2 Axes>"
      ]
     },
     "metadata": {
      "needs_background": "light"
     },
     "output_type": "display_data"
    }
   ],
   "source": [
    "ids3 = ids2.rename(columns={'big_class': 'class'})\n",
    "\n",
    "plt.figure(figsize=(8,5))\n",
    "ax = sns.histplot(ids3, x='loop', y='class', bins=60, cbar=True, cmap=cmap,\n",
    "                  discrete=(True, True), cbar_kws={'label': 'incidence in 100 realizations'})\n",
    "ax.set_xlabel('loop', fontsize=22)\n",
    "ax.set_ylabel('class', fontsize=22)\n",
    "plt.tight_layout()\n",
    "plt.show()\n",
    "#plt.savefig(data_dir + '/plots/classes_in_loop.pdf')"
   ]
  },
  {
   "cell_type": "code",
   "execution_count": 17,
   "id": "ahead-africa",
   "metadata": {},
   "outputs": [],
   "source": [
    "dirname = data_dir + '/RandomSampling/queries/'\n",
    "\n",
    "flist = glob.glob(dirname + '*.dat')\n",
    "\n",
    "# remove file only generated to make figure 7\n",
    "flist.remove(dirname + 'queried_RandomSampling_v6_ini_cond_US.dat')\n",
    "\n",
    "tot = 0\n",
    "\n",
    "queries = {}\n",
    "ids4 = []\n",
    "\n",
    "for i in range(len(flist)):\n",
    "    data = pd.read_csv(flist[i], delim_whitespace=True, skiprows=1, names = ['mute'] + list(features.keys()), \n",
    "                       index_col=False)\n",
    "    data['big_class'] = None\n",
    "    \n",
    "    for j in range(data.shape[0]):\n",
    "        data.loc[j, 'big_class'] = class_dict[data.iloc[j]['type']]\n",
    "    \n",
    "    types, freq = np.unique(data['big_class'].values, return_counts=True)\n",
    "    \n",
    "    tot = tot + data.shape[0]\n",
    "    \n",
    "    for j in range(len(types)):\n",
    "        if types[j] in queries.keys():\n",
    "            queries[types[j]].append(freq[j])\n",
    "        else:\n",
    "            queries[types[j]] = [freq[j]]\n",
    "            \n",
    "    data['iteration'] = i\n",
    "    data['loop'] = np.arange(300)\n",
    "    ids4.append(data[['id', 'type', 'iteration', 'loop', 'big_class', 'nrise_r', 'nrise_g']])\n",
    "    \n",
    "ids5 = pd.concat(ids4, ignore_index=True)\n",
    "ids5['strategy'] = 'RandomSampling'"
   ]
  },
  {
   "cell_type": "code",
   "execution_count": 18,
   "id": "responsible-contact",
   "metadata": {},
   "outputs": [],
   "source": [
    "ids6 = pd.concat([ids2, ids5], ignore_index=True)"
   ]
  },
  {
   "cell_type": "code",
   "execution_count": 42,
   "id": "amazing-kidney",
   "metadata": {},
   "outputs": [
    {
     "name": "stdout",
     "output_type": "stream",
     "text": [
      "\n",
      "\n",
      "Strategy:  RandomSampling\n",
      "multiple_object \t 0.19116666666666668 \t 0.0020245026824163783\n",
      "star \t 0.5753 \t 0.0026604490013696727\n",
      "AGN-like \t 0.12826666666666667 \t 0.00179906148372484\n",
      "other_SN \t 0.030233333333333334 \t 0.0009823497906097966\n",
      "other_TNS \t 0.0078 \t 0.0003594528469860118\n",
      "SNIa \t 0.06723333333333334 \t 0.0013375391998409285\n",
      "\n",
      "\n",
      "Strategy:  UncSampling\n",
      "multiple_object \t 0.063 \t 0.0011770962388673051\n",
      "star \t 0.2048 \t 0.002074351304223403\n",
      "AGN-like \t 0.09643333333333333 \t 0.002018940866450085\n",
      "other_SN \t 0.17433333333333334 \t 0.0017792008193443355\n",
      "other_TNS \t 0.008733333333333333 \t 0.00047017530221696546\n",
      "SNIa \t 0.4527 \t 0.001452733056460592\n"
     ]
    }
   ],
   "source": [
    "for strategy in ['RandomSampling', 'UncSampling']:\n",
    "\n",
    "    res = {}\n",
    "    for key in big_class.keys():\n",
    "        res[key] = []\n",
    "\n",
    "    for i in range(100):\n",
    "        flag = np.logical_and(ids6['iteration'].values == i, \n",
    "                              ids6['strategy'].values == strategy)\n",
    "        objs, freq = np.unique(ids6[flag]['big_class'].values, return_counts=True)\n",
    "\n",
    "        for i in range(len(objs)):\n",
    "            res[objs[i]].append(freq[i])\n",
    "    print('\\n')\n",
    "    print('Strategy: ', strategy)\n",
    "    for key in big_class.keys():\n",
    "        mean = sum(res[key])/30000\n",
    "        mean2 = sum(res[key])/len(res[key])\n",
    "        print(key, '\\t', mean, '\\t', np.sqrt(np.sum([pow(item - mean2,2) \n",
    "                                                     for item in res[key]]))/30000 )"
   ]
  },
  {
   "cell_type": "code",
   "execution_count": null,
   "id": "alone-smart",
   "metadata": {},
   "outputs": [],
   "source": []
  }
 ],
 "metadata": {
  "kernelspec": {
   "display_name": "Python 3",
   "language": "python",
   "name": "python3"
  },
  "language_info": {
   "codemirror_mode": {
    "name": "ipython",
    "version": 3
   },
   "file_extension": ".py",
   "mimetype": "text/x-python",
   "name": "python",
   "nbconvert_exporter": "python",
   "pygments_lexer": "ipython3",
   "version": "3.7.1"
  }
 },
 "nbformat": 4,
 "nbformat_minor": 5
}
