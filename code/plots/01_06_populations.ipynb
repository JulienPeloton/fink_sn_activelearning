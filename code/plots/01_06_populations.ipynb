{
 "cells": [
  {
   "cell_type": "code",
   "execution_count": 1,
   "id": "developmental-chicken",
   "metadata": {},
   "outputs": [],
   "source": [
    "import pandas as pd\n",
    "import numpy as np\n",
    "import matplotlib.pylab as plt\n",
    "import seaborn as sns\n",
    "import glob"
   ]
  },
  {
   "cell_type": "code",
   "execution_count": 2,
   "id": "quick-exploration",
   "metadata": {},
   "outputs": [],
   "source": [
    "# construct big classification\n",
    "big_class = {}\n",
    "big_class['multiple_object'] = ['EllipVar', 'Symbiotic*','SB*','DQHer', \n",
    "                                'Nova-like','EB*betLyr','AMHer','Nova','EB*Algol',\n",
    "                                'EB*WUMa','CataclyV*',\n",
    "                                  'DwarfNova','EB*']\n",
    "big_class['star'] = ['brownD*','SG*','RCrB_Candidate', 'HV*', 'WR*', 'YellowSG*','gammaDor','RotV*alf2CVn',\n",
    "                     'Erupt*RCrB','BlueStraggler','Eruptive*','V*?', 'Pulsar', \n",
    "                     'PulsV*bCep','low-mass*','post-AGB*', 'Pec*','pMS*','HotSubdwarf',\n",
    "                     'PM*','*inNeb','pulsV*SX','RGB*','HB*','BYDra',\n",
    "                       'PulsV*RVTau', 'BlueSG*','Irregular_V*','WD*','Ae*','RedSG*',\n",
    "                     'AGB*','OH/IR','Be*','Cepheid','PulsV*delSct','RotV*','PulsV*',\n",
    "                       'PulsV*WVir','S*','RSCVn','deltaCep','TTau*','Em*','Orion_V*',\n",
    "                     'YSO','V*','C*','Mira','LPV*','Star','RRLyr']\n",
    "big_class['AGN-like'] = ['LINER','Blazar','AGN','BLLac','QSO','Galaxy']\n",
    "big_class['other_SN'] = ['SNIb-pec', 'SNIb/c','SNII-pec','SN', 'SNIbn','SNIc-BL','SNI',\n",
    "                   'SNIb','SNIIb','SLSN-II','SNIIP','SLSN-I','SNIc','SNIIn','SNII',\n",
    "                  'SN Ibn','SN Ic-BL','SN I', 'SN Ib','SN IIb','SN IIP', 'SN Ic','SN IIn',\n",
    "                   'SN II', 'SN Icn', 'SNIcn', 'SN Ib/c','SN Ib-pec','SN IIL', 'SN II-pec']\n",
    "big_class['other_TNS'] = ['Mdwarf', 'LBV','TDE','Other','CV','Varstar', 'M dwarf','LRN',\n",
    "                          'FRB']\n",
    "big_class['SNIa'] = ['Ia', 'SN Ia', 'SN Ia-91T-like', 'SN Ia-91bg-like', 'SN Ia-CSM', \n",
    "                'SN Ia-pec', 'SN Iax[02cx-like]']\n",
    "\n",
    "# reverse it\n",
    "class_dict = {}\n",
    "for key in big_class.keys():\n",
    "    for item in big_class[key]:\n",
    "        class_dict[item] = key"
   ]
  },
  {
   "cell_type": "markdown",
   "id": "surrounded-german",
   "metadata": {},
   "source": [
    "# Raw vs feature extraction"
   ]
  },
  {
   "cell_type": "code",
   "execution_count": 6,
   "id": "loose-swing",
   "metadata": {},
   "outputs": [],
   "source": [
    "fname = '../../../zenodo/data/raw.csv.gz'\n",
    "data = pd.read_csv(fname)"
   ]
  },
  {
   "cell_type": "code",
   "execution_count": 7,
   "id": "adolescent-florence",
   "metadata": {},
   "outputs": [
    {
     "data": {
      "text/plain": [
       "(86422, 10)"
      ]
     },
     "execution_count": 7,
     "metadata": {},
     "output_type": "execute_result"
    }
   ],
   "source": [
    "data.shape"
   ]
  },
  {
   "cell_type": "code",
   "execution_count": 8,
   "id": "metric-dylan",
   "metadata": {},
   "outputs": [
    {
     "data": {
      "text/plain": [
       "(52627,)"
      ]
     },
     "execution_count": 8,
     "metadata": {},
     "output_type": "execute_result"
    }
   ],
   "source": [
    "np.unique(data['objectId'].values).shape"
   ]
  },
  {
   "cell_type": "code",
   "execution_count": 9,
   "id": "prerequisite-province",
   "metadata": {},
   "outputs": [],
   "source": [
    "data_raw = []\n",
    "galaxy = []\n",
    "other_sn = []\n",
    "mult = []\n",
    "other_tns = []\n",
    "snia = []\n",
    "\n",
    "for i in range(data.shape[0]):\n",
    "    \n",
    "    objtype = data.iloc[i]['TNS']\n",
    "    if objtype == '-99':\n",
    "        objtype = data.iloc[i]['cdsxmatch']\n",
    "\n",
    "    data_raw.append(class_dict[objtype])\n",
    "    \n",
    "    big = class_dict[objtype]\n",
    "    if  big == 'AGN-like':\n",
    "        galaxy.append(objtype)\n",
    "    if big == 'other_SN':\n",
    "        other_sn.append(objtype)\n",
    "    if big == 'multiple_object':\n",
    "        mult.append(objtype)\n",
    "    if big == 'other_TNS':\n",
    "        other_tns.append(objtype)\n",
    "    if big == 'SNIa':\n",
    "        snia.append([objtype, data.iloc[i]['objectId']])\n",
    "    \n",
    "data_raw = np.array(data_raw)\n",
    "galaxy = np.array(galaxy)\n",
    "other_tns = np.array(other_tns)\n",
    "mult = np.array(mult)\n",
    "snia = np.array(snia)"
   ]
  },
  {
   "cell_type": "code",
   "execution_count": 10,
   "id": "appropriate-being",
   "metadata": {},
   "outputs": [
    {
     "data": {
      "text/plain": [
       "(2287,)"
      ]
     },
     "execution_count": 10,
     "metadata": {},
     "output_type": "execute_result"
    }
   ],
   "source": [
    "np.unique(snia[:,1]).shape"
   ]
  },
  {
   "cell_type": "code",
   "execution_count": 11,
   "id": "equivalent-ebony",
   "metadata": {},
   "outputs": [
    {
     "name": "stdout",
     "output_type": "stream",
     "text": [
      "Galaxy-sub-type  ---  number\n",
      "AGN   --   415\n",
      "BLLac   --   556\n",
      "Blazar   --   7\n",
      "Galaxy   --   5\n",
      "LINER   --   6\n",
      "QSO   --   5766\n"
     ]
    }
   ],
   "source": [
    "sntype, freq = np.unique(galaxy, return_counts=True)\n",
    "\n",
    "print('Galaxy-sub-type  ---  number')\n",
    "for i in range(len(sntype)):\n",
    "    print(sntype[i], '  --  ', freq[i])"
   ]
  },
  {
   "cell_type": "code",
   "execution_count": 12,
   "id": "alternative-routine",
   "metadata": {},
   "outputs": [
    {
     "name": "stdout",
     "output_type": "stream",
     "text": [
      "SN-sub-type  ---  number\n",
      "SLSN-I   --   200\n",
      "SLSN-II   --   145\n",
      "SN   --   26\n",
      "SN I   --   53\n",
      "SN II   --   1969\n",
      "SN II-pec   --   6\n",
      "SN IIL   --   1\n",
      "SN IIP   --   293\n",
      "SN IIb   --   101\n",
      "SN IIn   --   523\n",
      "SN Ib   --   167\n",
      "SN Ib-pec   --   5\n",
      "SN Ib/c   --   22\n",
      "SN Ibn   --   28\n",
      "SN Ic   --   266\n",
      "SN Ic-BL   --   84\n",
      "SN Icn   --   2\n"
     ]
    }
   ],
   "source": [
    "sntype, freq = np.unique(other_sn, return_counts=True)\n",
    "print('SN-sub-type  ---  number')\n",
    "for i in range(len(sntype)):\n",
    "    print(sntype[i], '  --  ', freq[i])"
   ]
  },
  {
   "cell_type": "code",
   "execution_count": 13,
   "id": "hazardous-liquid",
   "metadata": {},
   "outputs": [
    {
     "name": "stdout",
     "output_type": "stream",
     "text": [
      "Other TNS-sub-type  ---  number\n",
      "CV   --   400\n",
      "FRB   --   7\n",
      "LBV   --   24\n",
      "LRN   --   3\n",
      "M dwarf   --   45\n",
      "Other   --   107\n",
      "TDE   --   88\n",
      "Varstar   --   290\n"
     ]
    }
   ],
   "source": [
    "sntype, freq = np.unique(other_tns, return_counts=True)\n",
    "\n",
    "print('Other TNS-sub-type  ---  number')\n",
    "for i in range(len(sntype)):\n",
    "    print(sntype[i], '  --  ', freq[i])"
   ]
  },
  {
   "cell_type": "code",
   "execution_count": 14,
   "id": "inclusive-shopping",
   "metadata": {},
   "outputs": [
    {
     "name": "stdout",
     "output_type": "stream",
     "text": [
      "Multiple object-sub-type  ---  number\n",
      "AMHer   --   40\n",
      "CataclyV*   --   354\n",
      "DQHer   --   11\n",
      "DwarfNova   --   241\n",
      "EB*   --   15194\n",
      "EB*Algol   --   592\n",
      "EB*WUMa   --   228\n",
      "EB*betLyr   --   176\n",
      "EllipVar   --   31\n",
      "Nova   --   102\n",
      "Nova-like   --   24\n",
      "SB*   --   17\n",
      "Symbiotic*   --   29\n"
     ]
    }
   ],
   "source": [
    "sntype, freq = np.unique(mult, return_counts=True)\n",
    "\n",
    "print('Multiple object-sub-type  ---  number')\n",
    "for i in range(len(sntype)):\n",
    "    print(sntype[i], '  --  ', freq[i])"
   ]
  },
  {
   "cell_type": "code",
   "execution_count": 15,
   "id": "informed-avenue",
   "metadata": {},
   "outputs": [],
   "source": [
    "features = pd.read_csv('../../../zenodo/data/features.csv', index_col=False)\n",
    "\n",
    "features_class = []\n",
    "\n",
    "for i in range(features.shape[0]):\n",
    "    \n",
    "    objtype = features.iloc[i]['type']\n",
    "    features_class.append(class_dict[objtype])\n",
    "            \n",
    "features_class = np.array(features_class)"
   ]
  },
  {
   "cell_type": "code",
   "execution_count": 16,
   "id": "uniform-blend",
   "metadata": {},
   "outputs": [
    {
     "data": {
      "text/plain": [
       "(23840,)"
      ]
     },
     "execution_count": 16,
     "metadata": {},
     "output_type": "execute_result"
    }
   ],
   "source": [
    "features_class.shape"
   ]
  },
  {
   "cell_type": "code",
   "execution_count": 17,
   "id": "equivalent-newark",
   "metadata": {},
   "outputs": [],
   "source": [
    "objId = []\n",
    "\n",
    "for i in range(features.shape[0]):\n",
    "    candid = features.iloc[i]['id']\n",
    "    indx = list(data['candid'].values).index(candid)\n",
    "    objId.append([data.iloc[indx]['objectId'],data.iloc[indx]['TNS']])"
   ]
  },
  {
   "cell_type": "code",
   "execution_count": 18,
   "id": "simplified-apache",
   "metadata": {},
   "outputs": [
    {
     "data": {
      "text/plain": [
       "(15950,)"
      ]
     },
     "execution_count": 18,
     "metadata": {},
     "output_type": "execute_result"
    }
   ],
   "source": [
    "np.unique(np.array(objId)[:,0]).shape"
   ]
  },
  {
   "cell_type": "code",
   "execution_count": 19,
   "id": "democratic-version",
   "metadata": {},
   "outputs": [],
   "source": [
    "Ia_flag = np.array([item in big_class['SNIa'] for item in np.array(objId)[:,1]])"
   ]
  },
  {
   "cell_type": "code",
   "execution_count": 20,
   "id": "attended-honolulu",
   "metadata": {},
   "outputs": [],
   "source": [
    "Ia_id = np.array(objId)[Ia_flag]"
   ]
  },
  {
   "cell_type": "code",
   "execution_count": 21,
   "id": "welsh-affect",
   "metadata": {},
   "outputs": [
    {
     "data": {
      "text/plain": [
       "(1021,)"
      ]
     },
     "execution_count": 21,
     "metadata": {},
     "output_type": "execute_result"
    }
   ],
   "source": [
    "np.unique(Ia_id[:,0]).shape"
   ]
  },
  {
   "cell_type": "code",
   "execution_count": 22,
   "id": "juvenile-individual",
   "metadata": {},
   "outputs": [],
   "source": [
    "types_raw, number_raw = np.unique(data_raw, return_counts=True)\n",
    "types_features, number_features = np.unique(features_class, return_counts=True)\n",
    "\n",
    "raw_pop = pd.DataFrame()\n",
    "raw_pop['type'] = types_raw\n",
    "raw_pop['sample fraction'] = number_raw.astype(float)/len(data_raw)\n",
    "raw_pop['number'] = number_raw\n",
    "raw_pop['sample'] = 'raw'\n",
    "\n",
    "c1 = pd.DataFrame()\n",
    "c1['type'] = np.unique(features_class, return_counts=True)[0]\n",
    "c1['sample fraction'] = np.unique(features_class, return_counts=True)[1]/len(features_class)\n",
    "c1['sample'] = 'after feature extraction'\n",
    "c1['number'] = np.unique(features_class, return_counts=True)[1]\n",
    "\n",
    "pop = pd.concat([raw_pop,c1], ignore_index=True)"
   ]
  },
  {
   "cell_type": "code",
   "execution_count": 23,
   "id": "weekly-printing",
   "metadata": {},
   "outputs": [
    {
     "data": {
      "text/html": [
       "<div>\n",
       "<style scoped>\n",
       "    .dataframe tbody tr th:only-of-type {\n",
       "        vertical-align: middle;\n",
       "    }\n",
       "\n",
       "    .dataframe tbody tr th {\n",
       "        vertical-align: top;\n",
       "    }\n",
       "\n",
       "    .dataframe thead th {\n",
       "        text-align: right;\n",
       "    }\n",
       "</style>\n",
       "<table border=\"1\" class=\"dataframe\">\n",
       "  <thead>\n",
       "    <tr style=\"text-align: right;\">\n",
       "      <th></th>\n",
       "      <th>type</th>\n",
       "      <th>sample fraction</th>\n",
       "      <th>number</th>\n",
       "      <th>sample</th>\n",
       "    </tr>\n",
       "  </thead>\n",
       "  <tbody>\n",
       "    <tr>\n",
       "      <th>0</th>\n",
       "      <td>AGN-like</td>\n",
       "      <td>0.078163</td>\n",
       "      <td>6755</td>\n",
       "      <td>raw</td>\n",
       "    </tr>\n",
       "    <tr>\n",
       "      <th>1</th>\n",
       "      <td>SNIa</td>\n",
       "      <td>0.072539</td>\n",
       "      <td>6269</td>\n",
       "      <td>raw</td>\n",
       "    </tr>\n",
       "    <tr>\n",
       "      <th>2</th>\n",
       "      <td>multiple_object</td>\n",
       "      <td>0.197160</td>\n",
       "      <td>17039</td>\n",
       "      <td>raw</td>\n",
       "    </tr>\n",
       "    <tr>\n",
       "      <th>3</th>\n",
       "      <td>other_SN</td>\n",
       "      <td>0.045023</td>\n",
       "      <td>3891</td>\n",
       "      <td>raw</td>\n",
       "    </tr>\n",
       "    <tr>\n",
       "      <th>4</th>\n",
       "      <td>other_TNS</td>\n",
       "      <td>0.011155</td>\n",
       "      <td>964</td>\n",
       "      <td>raw</td>\n",
       "    </tr>\n",
       "    <tr>\n",
       "      <th>5</th>\n",
       "      <td>star</td>\n",
       "      <td>0.595959</td>\n",
       "      <td>51504</td>\n",
       "      <td>raw</td>\n",
       "    </tr>\n",
       "    <tr>\n",
       "      <th>6</th>\n",
       "      <td>AGN-like</td>\n",
       "      <td>0.125671</td>\n",
       "      <td>2996</td>\n",
       "      <td>after feature extraction</td>\n",
       "    </tr>\n",
       "    <tr>\n",
       "      <th>7</th>\n",
       "      <td>SNIa</td>\n",
       "      <td>0.067114</td>\n",
       "      <td>1600</td>\n",
       "      <td>after feature extraction</td>\n",
       "    </tr>\n",
       "    <tr>\n",
       "      <th>8</th>\n",
       "      <td>multiple_object</td>\n",
       "      <td>0.187961</td>\n",
       "      <td>4481</td>\n",
       "      <td>after feature extraction</td>\n",
       "    </tr>\n",
       "    <tr>\n",
       "      <th>9</th>\n",
       "      <td>other_SN</td>\n",
       "      <td>0.031963</td>\n",
       "      <td>762</td>\n",
       "      <td>after feature extraction</td>\n",
       "    </tr>\n",
       "    <tr>\n",
       "      <th>10</th>\n",
       "      <td>other_TNS</td>\n",
       "      <td>0.007299</td>\n",
       "      <td>174</td>\n",
       "      <td>after feature extraction</td>\n",
       "    </tr>\n",
       "    <tr>\n",
       "      <th>11</th>\n",
       "      <td>star</td>\n",
       "      <td>0.579992</td>\n",
       "      <td>13827</td>\n",
       "      <td>after feature extraction</td>\n",
       "    </tr>\n",
       "  </tbody>\n",
       "</table>\n",
       "</div>"
      ],
      "text/plain": [
       "               type  sample fraction  number                    sample\n",
       "0          AGN-like         0.078163    6755                       raw\n",
       "1              SNIa         0.072539    6269                       raw\n",
       "2   multiple_object         0.197160   17039                       raw\n",
       "3          other_SN         0.045023    3891                       raw\n",
       "4         other_TNS         0.011155     964                       raw\n",
       "5              star         0.595959   51504                       raw\n",
       "6          AGN-like         0.125671    2996  after feature extraction\n",
       "7              SNIa         0.067114    1600  after feature extraction\n",
       "8   multiple_object         0.187961    4481  after feature extraction\n",
       "9          other_SN         0.031963     762  after feature extraction\n",
       "10        other_TNS         0.007299     174  after feature extraction\n",
       "11             star         0.579992   13827  after feature extraction"
      ]
     },
     "execution_count": 23,
     "metadata": {},
     "output_type": "execute_result"
    }
   ],
   "source": [
    "pop"
   ]
  },
  {
   "cell_type": "code",
   "execution_count": 24,
   "id": "consistent-racing",
   "metadata": {},
   "outputs": [
    {
     "data": {
      "text/plain": [
       "23840"
      ]
     },
     "execution_count": 24,
     "metadata": {},
     "output_type": "execute_result"
    }
   ],
   "source": [
    "sum(pop['number'][pop['sample'] == 'after feature extraction'])"
   ]
  },
  {
   "cell_type": "code",
   "execution_count": 25,
   "id": "judicial-assistant",
   "metadata": {},
   "outputs": [
    {
     "data": {
      "text/plain": [
       "86422"
      ]
     },
     "execution_count": 25,
     "metadata": {},
     "output_type": "execute_result"
    }
   ],
   "source": [
    "sum(pop['number'][pop['sample'] == 'raw'])"
   ]
  },
  {
   "cell_type": "code",
   "execution_count": 26,
   "id": "lesser-england",
   "metadata": {},
   "outputs": [
    {
     "data": {
      "image/png": "[encoded data removed]",
      "text/plain": [
       "<Figure size 576x360 with 1 Axes>"
      ]
     },
     "metadata": {
      "needs_background": "light"
     },
     "output_type": "display_data"
    }
   ],
   "source": [
    "c = ['#F5622E', '#15284F']\n",
    "\n",
    "f, ax = plt.subplots(figsize=(8, 5))\n",
    "\n",
    "sns.set_palette('Spectral')\n",
    "sns.barplot(x=\"sample fraction\", y=\"type\", data=pop,\n",
    "            hue='sample', ci=None, palette=c)\n",
    "ax.set(xlim=(0, 0.9), ylabel=\"\")\n",
    "ax.set_xlabel(xlabel=\"fraction of full sample\", fontsize=14)\n",
    "ax.set_yticklabels(types_raw, fontsize=14)\n",
    "sns.despine(left=True, bottom=True)\n",
    "plt.tight_layout()\n",
    "plt.show()\n",
    "#plt.savefig('../../plots/perc_raw_features.pdf')"
   ]
  },
  {
   "cell_type": "code",
   "execution_count": 27,
   "id": "macro-parks",
   "metadata": {},
   "outputs": [
    {
     "data": {
      "text/html": [
       "<div>\n",
       "<style scoped>\n",
       "    .dataframe tbody tr th:only-of-type {\n",
       "        vertical-align: middle;\n",
       "    }\n",
       "\n",
       "    .dataframe tbody tr th {\n",
       "        vertical-align: top;\n",
       "    }\n",
       "\n",
       "    .dataframe thead th {\n",
       "        text-align: right;\n",
       "    }\n",
       "</style>\n",
       "<table border=\"1\" class=\"dataframe\">\n",
       "  <thead>\n",
       "    <tr style=\"text-align: right;\">\n",
       "      <th></th>\n",
       "      <th>type</th>\n",
       "      <th>sample fraction</th>\n",
       "      <th>number</th>\n",
       "      <th>sample</th>\n",
       "    </tr>\n",
       "  </thead>\n",
       "  <tbody>\n",
       "    <tr>\n",
       "      <th>0</th>\n",
       "      <td>AGN-like</td>\n",
       "      <td>0.078163</td>\n",
       "      <td>6755</td>\n",
       "      <td>raw</td>\n",
       "    </tr>\n",
       "    <tr>\n",
       "      <th>1</th>\n",
       "      <td>SNIa</td>\n",
       "      <td>0.072539</td>\n",
       "      <td>6269</td>\n",
       "      <td>raw</td>\n",
       "    </tr>\n",
       "    <tr>\n",
       "      <th>2</th>\n",
       "      <td>multiple_object</td>\n",
       "      <td>0.197160</td>\n",
       "      <td>17039</td>\n",
       "      <td>raw</td>\n",
       "    </tr>\n",
       "    <tr>\n",
       "      <th>3</th>\n",
       "      <td>other_SN</td>\n",
       "      <td>0.045023</td>\n",
       "      <td>3891</td>\n",
       "      <td>raw</td>\n",
       "    </tr>\n",
       "    <tr>\n",
       "      <th>4</th>\n",
       "      <td>other_TNS</td>\n",
       "      <td>0.011155</td>\n",
       "      <td>964</td>\n",
       "      <td>raw</td>\n",
       "    </tr>\n",
       "    <tr>\n",
       "      <th>5</th>\n",
       "      <td>star</td>\n",
       "      <td>0.595959</td>\n",
       "      <td>51504</td>\n",
       "      <td>raw</td>\n",
       "    </tr>\n",
       "    <tr>\n",
       "      <th>6</th>\n",
       "      <td>AGN-like</td>\n",
       "      <td>0.125671</td>\n",
       "      <td>2996</td>\n",
       "      <td>after feature extraction</td>\n",
       "    </tr>\n",
       "    <tr>\n",
       "      <th>7</th>\n",
       "      <td>SNIa</td>\n",
       "      <td>0.067114</td>\n",
       "      <td>1600</td>\n",
       "      <td>after feature extraction</td>\n",
       "    </tr>\n",
       "    <tr>\n",
       "      <th>8</th>\n",
       "      <td>multiple_object</td>\n",
       "      <td>0.187961</td>\n",
       "      <td>4481</td>\n",
       "      <td>after feature extraction</td>\n",
       "    </tr>\n",
       "    <tr>\n",
       "      <th>9</th>\n",
       "      <td>other_SN</td>\n",
       "      <td>0.031963</td>\n",
       "      <td>762</td>\n",
       "      <td>after feature extraction</td>\n",
       "    </tr>\n",
       "    <tr>\n",
       "      <th>10</th>\n",
       "      <td>other_TNS</td>\n",
       "      <td>0.007299</td>\n",
       "      <td>174</td>\n",
       "      <td>after feature extraction</td>\n",
       "    </tr>\n",
       "    <tr>\n",
       "      <th>11</th>\n",
       "      <td>star</td>\n",
       "      <td>0.579992</td>\n",
       "      <td>13827</td>\n",
       "      <td>after feature extraction</td>\n",
       "    </tr>\n",
       "  </tbody>\n",
       "</table>\n",
       "</div>"
      ],
      "text/plain": [
       "               type  sample fraction  number                    sample\n",
       "0          AGN-like         0.078163    6755                       raw\n",
       "1              SNIa         0.072539    6269                       raw\n",
       "2   multiple_object         0.197160   17039                       raw\n",
       "3          other_SN         0.045023    3891                       raw\n",
       "4         other_TNS         0.011155     964                       raw\n",
       "5              star         0.595959   51504                       raw\n",
       "6          AGN-like         0.125671    2996  after feature extraction\n",
       "7              SNIa         0.067114    1600  after feature extraction\n",
       "8   multiple_object         0.187961    4481  after feature extraction\n",
       "9          other_SN         0.031963     762  after feature extraction\n",
       "10        other_TNS         0.007299     174  after feature extraction\n",
       "11             star         0.579992   13827  after feature extraction"
      ]
     },
     "execution_count": 27,
     "metadata": {},
     "output_type": "execute_result"
    }
   ],
   "source": [
    "pop"
   ]
  },
  {
   "cell_type": "markdown",
   "id": "liberal-coffee",
   "metadata": {},
   "source": [
    "# Queried sample"
   ]
  },
  {
   "cell_type": "code",
   "execution_count": 33,
   "id": "beautiful-negative",
   "metadata": {},
   "outputs": [],
   "source": [
    "res_queried = {}\n",
    "\n",
    "for strategy in ['RandomSampling', 'UncSampling']:\n",
    "    flist = glob.glob('../../../zenodo/' + strategy + '/queries/queried_' + strategy + '_v*.dat')\n",
    "\n",
    "    res_queried[strategy] = {}\n",
    "    for name in big_class.keys():\n",
    "        res_queried[strategy][name] = []\n",
    "\n",
    "    for j in range(len(flist)):\n",
    "        data = pd.read_csv(flist[j], delim_whitespace=True, index_col=False)\n",
    "        data_class = np.array([class_dict[item] for item in data['type'].values])\n",
    "        sntype, freq = np.unique(data_class, return_counts=True)\n",
    "\n",
    "        for i in range(len(freq)):\n",
    "            res_queried[strategy][sntype[i]].append(freq[i]/data.shape[0])\n"
   ]
  },
  {
   "cell_type": "code",
   "execution_count": 35,
   "id": "complete-alfred",
   "metadata": {},
   "outputs": [
    {
     "name": "stdout",
     "output_type": "stream",
     "text": [
      "**** RandomSampling ****\n",
      "multiple_object  --  19.16  --  2.06\n",
      "star  --  57.47  --  2.72\n",
      "AGN-like  --  12.84  --  1.79\n",
      "other_SN  --  3.02  --  0.98\n",
      "other_TNS  --  0.86  --  0.38\n",
      "SNIa  --  6.73  --  1.33\n",
      "\n",
      "\n",
      "**** UncSampling ****\n",
      "multiple_object  --  6.3  --  1.18\n",
      "star  --  20.48  --  2.07\n",
      "AGN-like  --  9.64  --  2.02\n",
      "other_SN  --  17.43  --  1.78\n",
      "other_TNS  --  0.91  --  0.48\n",
      "SNIa  --  45.27  --  1.45\n",
      "\n",
      "\n"
     ]
    }
   ],
   "source": [
    "for strategy in ['RandomSampling', 'UncSampling']:\n",
    "    \n",
    "    print('**** ' + strategy + ' ****')\n",
    "    for key in res_queried[strategy].keys():\n",
    "        print(key, ' -- ', np.round(100* np.mean(res_queried[strategy][key]), 2), \n",
    "              ' -- ', np.round(100*np.std(res_queried[strategy][key]),2))\n",
    "        \n",
    "    print('\\n')"
   ]
  },
  {
   "cell_type": "markdown",
   "id": "operational-relative",
   "metadata": {},
   "source": [
    "# Photometrically classified Ia sample"
   ]
  },
  {
   "cell_type": "code",
   "execution_count": 39,
   "id": "published-orbit",
   "metadata": {},
   "outputs": [],
   "source": [
    "res_photIa = {}\n",
    "\n",
    "for strategy in ['RandomSampling', 'UncSampling']:\n",
    "    res_photIa[strategy] = {}\n",
    "    for name in big_class.keys():\n",
    "        res_photIa[strategy][name] = []\n",
    "    res_photIa[strategy]['tot'] = []\n",
    "    \n",
    "    flist = glob.glob('../../../zenodo/' + strategy + '/class_prob/v*/class_prob_' + strategy + '__loop_299.csv')\n",
    "\n",
    "    for name in flist:\n",
    "        data = pd.read_csv(name)\n",
    "        phot_Ia = data[data['prob_Ia']> 0.5]\n",
    "        data_class = np.array([class_dict[item] for item in phot_Ia['type'].values])\n",
    "        sntype, freq = np.unique(data_class, return_counts=True)\n",
    "\n",
    "        for i in range(len(freq)):\n",
    "            res_photIa[strategy][sntype[i]].append(freq[i]/data_class.shape[0])\n",
    "        res_photIa[strategy]['tot'].append(phot_Ia.shape[0])"
   ]
  },
  {
   "cell_type": "code",
   "execution_count": 40,
   "id": "turned-access",
   "metadata": {},
   "outputs": [
    {
     "data": {
      "text/plain": [
       "0.08089365993920188"
      ]
     },
     "execution_count": 40,
     "metadata": {},
     "output_type": "execute_result"
    }
   ],
   "source": [
    "np.mean(res_photIa['RandomSampling']['other_SN'])"
   ]
  },
  {
   "cell_type": "code",
   "execution_count": 41,
   "id": "integral-washer",
   "metadata": {},
   "outputs": [
    {
     "name": "stdout",
     "output_type": "stream",
     "text": [
      "**** RandomSampling ****\n",
      "multiple_object  --  0.72  --  0.58\n",
      "star  --  1.12  --  0.86\n",
      "AGN-like  --  3.55  --  3.56\n",
      "other_SN  --  8.09  --  2.44\n",
      "other_TNS  --  0.38  --  0.17\n",
      "SNIa  --  87.03  --  6.14\n",
      "\n",
      "\n",
      "**** UncSampling ****\n",
      "multiple_object  --  0.4  --  0.22\n",
      "star  --  1.81  --  0.52\n",
      "AGN-like  --  0.72  --  0.45\n",
      "other_SN  --  8.0  --  0.95\n",
      "other_TNS  --  0.26  --  0.11\n",
      "SNIa  --  88.84  --  1.6\n",
      "\n",
      "\n"
     ]
    }
   ],
   "source": [
    "for strategy in ['RandomSampling', 'UncSampling']:\n",
    "    \n",
    "    print('**** ' + strategy + ' ****')\n",
    "    for key in res_photIa[strategy].keys():\n",
    "        if key != 'tot':\n",
    "            print(key, ' -- ', np.round(100* np.mean(res_photIa[strategy][key]), 2), \n",
    "                  ' -- ', np.round(100*np.std(res_photIa[strategy][key]),2))\n",
    "    print('\\n')"
   ]
  },
  {
   "cell_type": "code",
   "execution_count": 42,
   "id": "consecutive-medline",
   "metadata": {},
   "outputs": [
    {
     "name": "stdout",
     "output_type": "stream",
     "text": [
      "RandomSampling    419.55  +/-  161.31623445890375\n",
      "\n",
      "\n",
      "UncSampling    894.21  +/-  34.00802699363784\n",
      "\n",
      "\n"
     ]
    }
   ],
   "source": [
    "for strategy in ['RandomSampling', 'UncSampling']:\n",
    "    print(strategy,'  ', np.mean(res_photIa[strategy]['tot']), ' +/- ', \n",
    "          np.std(res_photIa[strategy]['tot']))\n",
    "    print('\\n')"
   ]
  },
  {
   "cell_type": "code",
   "execution_count": 43,
   "id": "alleged-algeria",
   "metadata": {},
   "outputs": [],
   "source": [
    "res = []\n",
    "\n",
    "for strategy in ['RandomSampling', 'UncSampling']:\n",
    "    for key in big_class.keys():\n",
    "        mean = np.mean(res_photIa[strategy][key])\n",
    "        std = np.std(res_photIa[strategy][key])\n",
    "    \n",
    "        line = [key, mean, std, strategy]\n",
    "        res.append(line)\n",
    "        \n",
    "res2 = pd.DataFrame(data=res, columns=['type', 'perc', 'std', 'strategy'])"
   ]
  },
  {
   "cell_type": "code",
   "execution_count": 44,
   "id": "social-venture",
   "metadata": {},
   "outputs": [
    {
     "data": {
      "image/png": "[encoded data removed]",
      "text/plain": [
       "<Figure size 576x360 with 1 Axes>"
      ]
     },
     "metadata": {
      "needs_background": "light"
     },
     "output_type": "display_data"
    }
   ],
   "source": [
    "c = ['#F5622E', '#15284F']\n",
    "types = ['multiple_objects', 'star', 'AGN-like', 'SN', 'other_TNS', 'Ia']\n",
    "\n",
    "f, ax = plt.subplots(figsize=(8, 5))\n",
    "\n",
    "sns.set_palette('Spectral')\n",
    "sns.barplot(x=\"perc\", y=\"type\", data=res2,\n",
    "            hue='strategy', ci=None, palette=c)\n",
    "ax.set(xlim=(0, 0.9), ylabel=\"\")\n",
    "ax.set_xlabel(xlabel=\"fraction of full sample\", fontsize=14)\n",
    "ax.set_yticklabels(types, fontsize=14)\n",
    "sns.despine(left=True, bottom=True)\n",
    "plt.tight_layout()\n",
    "plt.show()\n",
    "#plt.savefig('../../plots/photom_classified.pdf')"
   ]
  },
  {
   "cell_type": "code",
   "execution_count": null,
   "id": "collected-rebecca",
   "metadata": {},
   "outputs": [],
   "source": []
  },
  {
   "cell_type": "code",
   "execution_count": null,
   "id": "faced-summit",
   "metadata": {},
   "outputs": [],
   "source": []
  }
 ],
 "metadata": {
  "kernelspec": {
   "display_name": "Python 3",
   "language": "python",
   "name": "python3"
  },
  "language_info": {
   "codemirror_mode": {
    "name": "ipython",
    "version": 3
   },
   "file_extension": ".py",
   "mimetype": "text/x-python",
   "name": "python",
   "nbconvert_exporter": "python",
   "pygments_lexer": "ipython3",
   "version": "3.7.1"
  }
 },
 "nbformat": 4,
 "nbformat_minor": 5
}
