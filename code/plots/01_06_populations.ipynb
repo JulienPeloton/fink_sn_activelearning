{
 "cells": [
  {
   "cell_type": "code",
   "execution_count": 1,
   "id": "generic-effectiveness",
   "metadata": {},
   "outputs": [],
   "source": [
    "import pandas as pd\n",
    "import numpy as np\n",
    "import matplotlib.pylab as plt\n",
    "import seaborn as sns\n",
    "import glob\n",
    "import os"
   ]
  },
  {
   "cell_type": "code",
   "execution_count": 2,
   "id": "serious-tuning",
   "metadata": {},
   "outputs": [],
   "source": [
    "# construct big classification\n",
    "big_class = {}\n",
    "big_class['multiple_object'] = ['EllipVar', 'Symbiotic*','SB*','DQHer', \n",
    "                                'Nova-like','EB*betLyr','AMHer','Nova','EB*Algol',\n",
    "                                'EB*WUMa','CataclyV*',\n",
    "                                  'DwarfNova','EB*']\n",
    "big_class['star'] = ['brownD*','SG*','RCrB_Candidate', 'HV*', 'WR*', 'YellowSG*','gammaDor','RotV*alf2CVn',\n",
    "                     'Erupt*RCrB','BlueStraggler','Eruptive*','V*?', 'Pulsar', \n",
    "                     'PulsV*bCep','low-mass*','post-AGB*', 'Pec*','pMS*','HotSubdwarf',\n",
    "                     'PM*','*inNeb','pulsV*SX','RGB*','HB*','BYDra',\n",
    "                       'PulsV*RVTau', 'BlueSG*','Irregular_V*','WD*','Ae*','RedSG*',\n",
    "                     'AGB*','OH/IR','Be*','Cepheid','PulsV*delSct','RotV*','PulsV*',\n",
    "                       'PulsV*WVir','S*','RSCVn','deltaCep','TTau*','Em*','Orion_V*',\n",
    "                     'YSO','V*','C*','Mira','LPV*','Star','RRLyr']\n",
    "big_class['AGN-like'] = ['LINER','Blazar','AGN','BLLac','QSO','Galaxy']\n",
    "big_class['other_SN'] = ['SNIb-pec', 'SNIb/c','SNII-pec','SN', 'SNIbn','SNIc-BL','SNI',\n",
    "                   'SNIb','SNIIb','SLSN-II','SNIIP','SLSN-I','SNIc','SNIIn','SNII',\n",
    "                  'SN Ibn','SN Ic-BL','SN I', 'SN Ib','SN IIb','SN IIP', 'SN Ic','SN IIn',\n",
    "                   'SN II', 'SN Icn', 'SNIcn', 'SN Ib/c','SN Ib-pec','SN IIL', 'SN II-pec']\n",
    "big_class['other_TNS'] = ['Mdwarf', 'LBV','TDE','Other','CV','Varstar', 'M dwarf','LRN',\n",
    "                          'FRB']\n",
    "big_class['SNIa'] = ['Ia', 'SN Ia', 'SN Ia-91T-like', 'SN Ia-91bg-like', 'SN Ia-CSM', \n",
    "                'SN Ia-pec', 'SN Iax[02cx-like]']\n",
    "\n",
    "# reverse it\n",
    "class_dict = {}\n",
    "for key in big_class.keys():\n",
    "    for item in big_class[key]:\n",
    "        class_dict[item] = key"
   ]
  },
  {
   "cell_type": "markdown",
   "id": "backed-premiere",
   "metadata": {},
   "source": [
    "# Full initial data set (all available labels from SIMBAD and TNS)"
   ]
  },
  {
   "cell_type": "code",
   "execution_count": 3,
   "id": "adolescent-passport",
   "metadata": {},
   "outputs": [],
   "source": [
    "# this folder is avaliable through zenodo: \n",
    "# https://zenodo.org/record/5645609#.Yc5SpXXMJNg\n",
    "dirname_input = '../../../../data/AL_data/'\n",
    "flist = os.listdir(dirname_input)"
   ]
  },
  {
   "cell_type": "code",
   "execution_count": 4,
   "id": "closed-means",
   "metadata": {},
   "outputs": [],
   "source": [
    "simbad_alerts = []\n",
    "tns_alerts = []\n",
    "tns_classes = []\n",
    "simbad_objects = []\n",
    "tns_objects = []\n",
    "simbad_classes = []\n",
    "\n",
    "# read all tns file and n_files_simbad random simbad file\n",
    "for name in flist:\n",
    "    if 'simbad' in name:\n",
    "        d1 = pd.read_parquet(dirname_input + name)\n",
    "        simbad_alerts.append(d1.shape[0])\n",
    "        nobjs = np.unique(d1['objectId'].values).shape[0]\n",
    "        simbad_objects.append(nobjs)\n",
    "        d2 = d1.drop_duplicates(subset=['objectId'], keep='first')\n",
    "        simbad_classes = simbad_classes + list(d2['cdsxmatch'].values)\n",
    "    elif 'tns' in name:\n",
    "        d1 = pd.read_parquet(dirname_input + name)\n",
    "        tns_alerts.append(d1.shape[0])\n",
    "        nobjs = np.unique(d1['objectId'].values).shape[0]\n",
    "        tns_objects.append(nobjs)\n",
    "        d2 = d1.drop_duplicates(subset=['objectId'], keep='first')\n",
    "        tns_classes = tns_classes + list(d2['TNS'].values)"
   ]
  },
  {
   "cell_type": "code",
   "execution_count": 5,
   "id": "muslim-marsh",
   "metadata": {},
   "outputs": [
    {
     "data": {
      "text/plain": [
       "5004378"
      ]
     },
     "execution_count": 5,
     "metadata": {},
     "output_type": "execute_result"
    }
   ],
   "source": [
    "# number of alerts with SIMBAD classification\n",
    "sum(simbad_alerts)"
   ]
  },
  {
   "cell_type": "code",
   "execution_count": 6,
   "id": "adjustable-defensive",
   "metadata": {},
   "outputs": [
    {
     "data": {
      "text/plain": [
       "1313371"
      ]
     },
     "execution_count": 6,
     "metadata": {},
     "output_type": "execute_result"
    }
   ],
   "source": [
    "# number of objects with SIMBAD classification\n",
    "len(simbad_classes)"
   ]
  },
  {
   "cell_type": "code",
   "execution_count": 7,
   "id": "shared-stupid",
   "metadata": {},
   "outputs": [],
   "source": [
    "# check classes of all SIMBAD objects\n",
    "simbad_orig_classes, simbad_orig_numbers = \\\n",
    "    np.unique(simbad_classes, return_counts=True)\n",
    "\n",
    "simbad_orig_classes_perc = 100*np.round(simbad_orig_numbers/len(simbad_classes), 4)\n",
    "\n",
    "\n",
    "df_simbad_orig = pd.DataFrame(np.array([simbad_orig_classes, \n",
    "                               simbad_orig_numbers,\n",
    "                               simbad_orig_classes_perc]).transpose(), \n",
    "                              columns=['class', 'number', 'perc'])"
   ]
  },
  {
   "cell_type": "code",
   "execution_count": 8,
   "id": "eight-characteristic",
   "metadata": {},
   "outputs": [],
   "source": [
    "df_simbad_orig.to_csv('../../../../referee/data/simbad_orig_classes.csv', \n",
    "                      index=False)"
   ]
  },
  {
   "cell_type": "code",
   "execution_count": 9,
   "id": "potential-keyboard",
   "metadata": {},
   "outputs": [
    {
     "data": {
      "text/plain": [
       "11422"
      ]
     },
     "execution_count": 9,
     "metadata": {},
     "output_type": "execute_result"
    }
   ],
   "source": [
    "# number of alerts with TNS classification\n",
    "sum(tns_alerts)"
   ]
  },
  {
   "cell_type": "code",
   "execution_count": 10,
   "id": "incoming-surprise",
   "metadata": {},
   "outputs": [
    {
     "data": {
      "text/plain": [
       "11329"
      ]
     },
     "execution_count": 10,
     "metadata": {},
     "output_type": "execute_result"
    }
   ],
   "source": [
    "# number of objects with TNS classification\n",
    "sum(tns_objects)"
   ]
  },
  {
   "cell_type": "code",
   "execution_count": 11,
   "id": "activated-marathon",
   "metadata": {},
   "outputs": [],
   "source": [
    "# check classes of all TNS objects\n",
    "tns_orig_classes, tns_orig_numbers = \\\n",
    "    np.unique(tns_classes, return_counts=True)\n",
    "\n",
    "tns_orig_classes_perc = 100*np.round(tns_orig_numbers/len(tns_classes), 4)\n",
    "\n",
    "\n",
    "df_tns_orig = pd.DataFrame(np.array([tns_orig_classes, \n",
    "                               tns_orig_numbers,\n",
    "                               tns_orig_classes_perc]).transpose(), \n",
    "                              columns=['class', 'number', 'perc'])"
   ]
  },
  {
   "cell_type": "code",
   "execution_count": 12,
   "id": "fatal-lithuania",
   "metadata": {},
   "outputs": [],
   "source": [
    "df_tns_orig.to_csv('../../../../referee/data/tns_orig_classes.csv', \n",
    "                  index=False)"
   ]
  },
  {
   "cell_type": "markdown",
   "id": "descending-photographer",
   "metadata": {},
   "source": [
    "# Raw vs feature extraction"
   ]
  },
  {
   "cell_type": "code",
   "execution_count": 13,
   "id": "useful-carter",
   "metadata": {},
   "outputs": [],
   "source": [
    "fname = '../../../../referee/data/raw.csv.gz'\n",
    "data = pd.read_csv(fname)"
   ]
  },
  {
   "cell_type": "code",
   "execution_count": 14,
   "id": "adjustable-might",
   "metadata": {},
   "outputs": [
    {
     "data": {
      "text/plain": [
       "(86422, 10)"
      ]
     },
     "execution_count": 14,
     "metadata": {},
     "output_type": "execute_result"
    }
   ],
   "source": [
    "data.shape"
   ]
  },
  {
   "cell_type": "code",
   "execution_count": 15,
   "id": "successful-going",
   "metadata": {},
   "outputs": [
    {
     "data": {
      "text/plain": [
       "75000"
      ]
     },
     "execution_count": 15,
     "metadata": {},
     "output_type": "execute_result"
    }
   ],
   "source": [
    "data.shape[0] - sum(tns_alerts)"
   ]
  },
  {
   "cell_type": "code",
   "execution_count": 16,
   "id": "weekly-uruguay",
   "metadata": {},
   "outputs": [
    {
     "data": {
      "text/plain": [
       "(52405,)"
      ]
     },
     "execution_count": 16,
     "metadata": {},
     "output_type": "execute_result"
    }
   ],
   "source": [
    "np.unique(data['objectId'].values).shape"
   ]
  },
  {
   "cell_type": "code",
   "execution_count": 17,
   "id": "faced-notice",
   "metadata": {},
   "outputs": [
    {
     "data": {
      "text/plain": [
       "41076"
      ]
     },
     "execution_count": 17,
     "metadata": {},
     "output_type": "execute_result"
    }
   ],
   "source": [
    "np.unique(data['objectId'].values).shape[0] - sum(tns_objects)"
   ]
  },
  {
   "cell_type": "code",
   "execution_count": 18,
   "id": "reflected-johnson",
   "metadata": {},
   "outputs": [],
   "source": [
    "data_raw = []\n",
    "galaxy = []\n",
    "other_sn = []\n",
    "mult = []\n",
    "other_tns = []\n",
    "snia = []\n",
    "\n",
    "for i in range(data.shape[0]):\n",
    "    \n",
    "    objtype = data.iloc[i]['TNS']\n",
    "    if objtype == '-99':\n",
    "        objtype = data.iloc[i]['cdsxmatch']\n",
    "\n",
    "    data_raw.append(class_dict[objtype])\n",
    "    \n",
    "    big = class_dict[objtype]\n",
    "    if  big == 'AGN-like':\n",
    "        galaxy.append(objtype)\n",
    "    if big == 'other_SN':\n",
    "        other_sn.append(objtype)\n",
    "    if big == 'multiple_object':\n",
    "        mult.append(objtype)\n",
    "    if big == 'other_TNS':\n",
    "        other_tns.append(objtype)\n",
    "    if big == 'SNIa':\n",
    "        snia.append([objtype, data.iloc[i]['objectId']])\n",
    "    \n",
    "data_raw = np.array(data_raw)\n",
    "galaxy = np.array(galaxy)\n",
    "other_tns = np.array(other_tns)\n",
    "mult = np.array(mult)\n",
    "snia = np.array(snia)"
   ]
  },
  {
   "cell_type": "code",
   "execution_count": 19,
   "id": "offshore-burning",
   "metadata": {},
   "outputs": [
    {
     "data": {
      "text/plain": [
       "(2287,)"
      ]
     },
     "execution_count": 19,
     "metadata": {},
     "output_type": "execute_result"
    }
   ],
   "source": [
    "np.unique(snia[:,1]).shape"
   ]
  },
  {
   "cell_type": "code",
   "execution_count": 20,
   "id": "romantic-mixture",
   "metadata": {},
   "outputs": [
    {
     "name": "stdout",
     "output_type": "stream",
     "text": [
      "Galaxy-sub-type  ---  number\n",
      "AGN   --   414\n",
      "BLLac   --   607\n",
      "Blazar   --   14\n",
      "Galaxy   --   5\n",
      "LINER   --   3\n",
      "QSO   --   5634\n"
     ]
    }
   ],
   "source": [
    "sntype, freq = np.unique(galaxy, return_counts=True)\n",
    "\n",
    "print('Galaxy-sub-type  ---  number')\n",
    "for i in range(len(sntype)):\n",
    "    print(sntype[i], '  --  ', freq[i])"
   ]
  },
  {
   "cell_type": "code",
   "execution_count": 21,
   "id": "forbidden-protection",
   "metadata": {},
   "outputs": [
    {
     "name": "stdout",
     "output_type": "stream",
     "text": [
      "SN-sub-type  ---  number\n",
      "SLSN-I   --   200\n",
      "SLSN-II   --   145\n",
      "SN   --   26\n",
      "SN I   --   53\n",
      "SN II   --   1969\n",
      "SN II-pec   --   6\n",
      "SN IIL   --   1\n",
      "SN IIP   --   293\n",
      "SN IIb   --   101\n",
      "SN IIn   --   523\n",
      "SN Ib   --   167\n",
      "SN Ib-pec   --   5\n",
      "SN Ib/c   --   22\n",
      "SN Ibn   --   28\n",
      "SN Ic   --   266\n",
      "SN Ic-BL   --   84\n",
      "SN Icn   --   2\n"
     ]
    }
   ],
   "source": [
    "sntype, freq = np.unique(other_sn, return_counts=True)\n",
    "print('SN-sub-type  ---  number')\n",
    "for i in range(len(sntype)):\n",
    "    print(sntype[i], '  --  ', freq[i])"
   ]
  },
  {
   "cell_type": "code",
   "execution_count": 22,
   "id": "foreign-jurisdiction",
   "metadata": {},
   "outputs": [
    {
     "name": "stdout",
     "output_type": "stream",
     "text": [
      "Other TNS-sub-type  ---  number\n",
      "CV   --   400\n",
      "FRB   --   7\n",
      "LBV   --   24\n",
      "LRN   --   3\n",
      "M dwarf   --   45\n",
      "Other   --   107\n",
      "TDE   --   88\n",
      "Varstar   --   290\n"
     ]
    }
   ],
   "source": [
    "sntype, freq = np.unique(other_tns, return_counts=True)\n",
    "\n",
    "print('Other TNS-sub-type  ---  number')\n",
    "for i in range(len(sntype)):\n",
    "    print(sntype[i], '  --  ', freq[i])"
   ]
  },
  {
   "cell_type": "code",
   "execution_count": 23,
   "id": "posted-prevention",
   "metadata": {},
   "outputs": [
    {
     "name": "stdout",
     "output_type": "stream",
     "text": [
      "Multiple object-sub-type  ---  number\n",
      "AMHer   --   46\n",
      "CataclyV*   --   370\n",
      "DQHer   --   20\n",
      "DwarfNova   --   264\n",
      "EB*   --   15204\n",
      "EB*Algol   --   571\n",
      "EB*WUMa   --   237\n",
      "EB*betLyr   --   162\n",
      "EllipVar   --   21\n",
      "Nova   --   118\n",
      "Nova-like   --   29\n",
      "SB*   --   20\n",
      "Symbiotic*   --   21\n"
     ]
    }
   ],
   "source": [
    "sntype, freq = np.unique(mult, return_counts=True)\n",
    "\n",
    "print('Multiple object-sub-type  ---  number')\n",
    "for i in range(len(sntype)):\n",
    "    print(sntype[i], '  --  ', freq[i])"
   ]
  },
  {
   "cell_type": "code",
   "execution_count": 24,
   "id": "productive-binary",
   "metadata": {},
   "outputs": [],
   "source": [
    "features = pd.read_csv('../../../../referee/data/features.csv', index_col=False)\n",
    "\n",
    "features_class = []\n",
    "\n",
    "for i in range(features.shape[0]):\n",
    "    \n",
    "    objtype = features.iloc[i]['type']\n",
    "    features_class.append(class_dict[objtype])\n",
    "            \n",
    "features_class = np.array(features_class)"
   ]
  },
  {
   "cell_type": "code",
   "execution_count": 25,
   "id": "agreed-champion",
   "metadata": {},
   "outputs": [],
   "source": [
    "objId = []\n",
    "\n",
    "for i in range(features.shape[0]):\n",
    "    candid = features.iloc[i]['id']\n",
    "    indx = list(data['candid'].values).index(candid)\n",
    "    objId.append([data.iloc[indx]['objectId'],data.iloc[indx]['TNS']])"
   ]
  },
  {
   "cell_type": "code",
   "execution_count": 26,
   "id": "engaging-drawing",
   "metadata": {},
   "outputs": [
    {
     "data": {
      "text/plain": [
       "23775"
      ]
     },
     "execution_count": 26,
     "metadata": {},
     "output_type": "execute_result"
    }
   ],
   "source": [
    "len(objId)"
   ]
  },
  {
   "cell_type": "code",
   "execution_count": 27,
   "id": "comparable-hello",
   "metadata": {},
   "outputs": [
    {
     "data": {
      "text/plain": [
       "(15751,)"
      ]
     },
     "execution_count": 27,
     "metadata": {},
     "output_type": "execute_result"
    }
   ],
   "source": [
    "np.unique(np.array(objId)[:,0]).shape"
   ]
  },
  {
   "cell_type": "code",
   "execution_count": 28,
   "id": "located-surge",
   "metadata": {},
   "outputs": [],
   "source": [
    "Ia_flag = np.array([item in big_class['SNIa'] for item in np.array(objId)[:,1]])"
   ]
  },
  {
   "cell_type": "code",
   "execution_count": 29,
   "id": "authorized-bunny",
   "metadata": {},
   "outputs": [],
   "source": [
    "Ia_id = np.array(objId)[Ia_flag]"
   ]
  },
  {
   "cell_type": "code",
   "execution_count": 30,
   "id": "representative-labor",
   "metadata": {},
   "outputs": [
    {
     "data": {
      "text/plain": [
       "(1021,)"
      ]
     },
     "execution_count": 30,
     "metadata": {},
     "output_type": "execute_result"
    }
   ],
   "source": [
    "np.unique(Ia_id[:,0]).shape"
   ]
  },
  {
   "cell_type": "code",
   "execution_count": 31,
   "id": "removable-biology",
   "metadata": {},
   "outputs": [],
   "source": [
    "types_raw, number_raw = np.unique(data_raw, return_counts=True)\n",
    "types_features, number_features = np.unique(features_class, return_counts=True)\n",
    "\n",
    "raw_pop = pd.DataFrame()\n",
    "raw_pop['type'] = types_raw\n",
    "raw_pop['sample fraction'] = number_raw.astype(float)/len(data_raw)\n",
    "raw_pop['number'] = number_raw\n",
    "raw_pop['sample'] = 'raw'\n",
    "\n",
    "c1 = pd.DataFrame()\n",
    "c1['type'] = np.unique(features_class, return_counts=True)[0]\n",
    "c1['sample fraction'] = np.unique(features_class, return_counts=True)[1]/len(features_class)\n",
    "c1['sample'] = 'after feature extraction'\n",
    "c1['number'] = np.unique(features_class, return_counts=True)[1]\n",
    "\n",
    "pop = pd.concat([raw_pop,c1], ignore_index=True)"
   ]
  },
  {
   "cell_type": "code",
   "execution_count": 32,
   "id": "applicable-comfort",
   "metadata": {},
   "outputs": [
    {
     "data": {
      "text/html": [
       "<div>\n",
       "<style scoped>\n",
       "    .dataframe tbody tr th:only-of-type {\n",
       "        vertical-align: middle;\n",
       "    }\n",
       "\n",
       "    .dataframe tbody tr th {\n",
       "        vertical-align: top;\n",
       "    }\n",
       "\n",
       "    .dataframe thead th {\n",
       "        text-align: right;\n",
       "    }\n",
       "</style>\n",
       "<table border=\"1\" class=\"dataframe\">\n",
       "  <thead>\n",
       "    <tr style=\"text-align: right;\">\n",
       "      <th></th>\n",
       "      <th>type</th>\n",
       "      <th>sample fraction</th>\n",
       "      <th>number</th>\n",
       "      <th>sample</th>\n",
       "    </tr>\n",
       "  </thead>\n",
       "  <tbody>\n",
       "    <tr>\n",
       "      <th>0</th>\n",
       "      <td>AGN-like</td>\n",
       "      <td>0.077260</td>\n",
       "      <td>6677</td>\n",
       "      <td>raw</td>\n",
       "    </tr>\n",
       "    <tr>\n",
       "      <th>1</th>\n",
       "      <td>SNIa</td>\n",
       "      <td>0.072539</td>\n",
       "      <td>6269</td>\n",
       "      <td>raw</td>\n",
       "    </tr>\n",
       "    <tr>\n",
       "      <th>2</th>\n",
       "      <td>multiple_object</td>\n",
       "      <td>0.197670</td>\n",
       "      <td>17083</td>\n",
       "      <td>raw</td>\n",
       "    </tr>\n",
       "    <tr>\n",
       "      <th>3</th>\n",
       "      <td>other_SN</td>\n",
       "      <td>0.045023</td>\n",
       "      <td>3891</td>\n",
       "      <td>raw</td>\n",
       "    </tr>\n",
       "    <tr>\n",
       "      <th>4</th>\n",
       "      <td>other_TNS</td>\n",
       "      <td>0.011155</td>\n",
       "      <td>964</td>\n",
       "      <td>raw</td>\n",
       "    </tr>\n",
       "    <tr>\n",
       "      <th>5</th>\n",
       "      <td>star</td>\n",
       "      <td>0.596353</td>\n",
       "      <td>51538</td>\n",
       "      <td>raw</td>\n",
       "    </tr>\n",
       "    <tr>\n",
       "      <th>6</th>\n",
       "      <td>AGN-like</td>\n",
       "      <td>0.124543</td>\n",
       "      <td>2961</td>\n",
       "      <td>after feature extraction</td>\n",
       "    </tr>\n",
       "    <tr>\n",
       "      <th>7</th>\n",
       "      <td>SNIa</td>\n",
       "      <td>0.067298</td>\n",
       "      <td>1600</td>\n",
       "      <td>after feature extraction</td>\n",
       "    </tr>\n",
       "    <tr>\n",
       "      <th>8</th>\n",
       "      <td>multiple_object</td>\n",
       "      <td>0.185868</td>\n",
       "      <td>4419</td>\n",
       "      <td>after feature extraction</td>\n",
       "    </tr>\n",
       "    <tr>\n",
       "      <th>9</th>\n",
       "      <td>other_SN</td>\n",
       "      <td>0.032050</td>\n",
       "      <td>762</td>\n",
       "      <td>after feature extraction</td>\n",
       "    </tr>\n",
       "    <tr>\n",
       "      <th>10</th>\n",
       "      <td>other_TNS</td>\n",
       "      <td>0.007319</td>\n",
       "      <td>174</td>\n",
       "      <td>after feature extraction</td>\n",
       "    </tr>\n",
       "    <tr>\n",
       "      <th>11</th>\n",
       "      <td>star</td>\n",
       "      <td>0.582923</td>\n",
       "      <td>13859</td>\n",
       "      <td>after feature extraction</td>\n",
       "    </tr>\n",
       "  </tbody>\n",
       "</table>\n",
       "</div>"
      ],
      "text/plain": [
       "               type  sample fraction  number                    sample\n",
       "0          AGN-like         0.077260    6677                       raw\n",
       "1              SNIa         0.072539    6269                       raw\n",
       "2   multiple_object         0.197670   17083                       raw\n",
       "3          other_SN         0.045023    3891                       raw\n",
       "4         other_TNS         0.011155     964                       raw\n",
       "5              star         0.596353   51538                       raw\n",
       "6          AGN-like         0.124543    2961  after feature extraction\n",
       "7              SNIa         0.067298    1600  after feature extraction\n",
       "8   multiple_object         0.185868    4419  after feature extraction\n",
       "9          other_SN         0.032050     762  after feature extraction\n",
       "10        other_TNS         0.007319     174  after feature extraction\n",
       "11             star         0.582923   13859  after feature extraction"
      ]
     },
     "execution_count": 32,
     "metadata": {},
     "output_type": "execute_result"
    }
   ],
   "source": [
    "pop"
   ]
  },
  {
   "cell_type": "code",
   "execution_count": 33,
   "id": "premium-devon",
   "metadata": {},
   "outputs": [
    {
     "data": {
      "text/plain": [
       "23775"
      ]
     },
     "execution_count": 33,
     "metadata": {},
     "output_type": "execute_result"
    }
   ],
   "source": [
    "sum(pop['number'][pop['sample'] == 'after feature extraction'])"
   ]
  },
  {
   "cell_type": "code",
   "execution_count": 34,
   "id": "graphic-discrimination",
   "metadata": {},
   "outputs": [
    {
     "data": {
      "text/plain": [
       "86422"
      ]
     },
     "execution_count": 34,
     "metadata": {},
     "output_type": "execute_result"
    }
   ],
   "source": [
    "sum(pop['number'][pop['sample'] == 'raw'])"
   ]
  },
  {
   "cell_type": "code",
   "execution_count": 35,
   "id": "hazardous-agency",
   "metadata": {},
   "outputs": [
    {
     "data": {
      "image/png": "[encoded data removed]",
      "text/plain": [
       "<Figure size 576x360 with 1 Axes>"
      ]
     },
     "metadata": {
      "needs_background": "light"
     },
     "output_type": "display_data"
    }
   ],
   "source": [
    "c = ['#F5622E', '#15284F']\n",
    "\n",
    "f, ax = plt.subplots(figsize=(8, 5))\n",
    "\n",
    "sns.set_palette('Spectral')\n",
    "sns.barplot(x=\"sample fraction\", y=\"type\", data=pop,\n",
    "            hue='sample', ci=None, palette=c)\n",
    "ax.set(xlim=(0, 0.9), ylabel=\"\")\n",
    "ax.set_xlabel(xlabel=\"fraction of full sample\", fontsize=14)\n",
    "ax.set_yticklabels(types_raw, fontsize=14)\n",
    "sns.despine(left=True, bottom=True)\n",
    "plt.tight_layout()\n",
    "#plt.show()\n",
    "plt.savefig('../../../../referee/plots/perc_raw_features.pdf')"
   ]
  },
  {
   "cell_type": "code",
   "execution_count": 36,
   "id": "revolutionary-enough",
   "metadata": {},
   "outputs": [
    {
     "data": {
      "text/html": [
       "<div>\n",
       "<style scoped>\n",
       "    .dataframe tbody tr th:only-of-type {\n",
       "        vertical-align: middle;\n",
       "    }\n",
       "\n",
       "    .dataframe tbody tr th {\n",
       "        vertical-align: top;\n",
       "    }\n",
       "\n",
       "    .dataframe thead th {\n",
       "        text-align: right;\n",
       "    }\n",
       "</style>\n",
       "<table border=\"1\" class=\"dataframe\">\n",
       "  <thead>\n",
       "    <tr style=\"text-align: right;\">\n",
       "      <th></th>\n",
       "      <th>type</th>\n",
       "      <th>sample fraction</th>\n",
       "      <th>number</th>\n",
       "      <th>sample</th>\n",
       "    </tr>\n",
       "  </thead>\n",
       "  <tbody>\n",
       "    <tr>\n",
       "      <th>0</th>\n",
       "      <td>AGN-like</td>\n",
       "      <td>0.077260</td>\n",
       "      <td>6677</td>\n",
       "      <td>raw</td>\n",
       "    </tr>\n",
       "    <tr>\n",
       "      <th>1</th>\n",
       "      <td>SNIa</td>\n",
       "      <td>0.072539</td>\n",
       "      <td>6269</td>\n",
       "      <td>raw</td>\n",
       "    </tr>\n",
       "    <tr>\n",
       "      <th>2</th>\n",
       "      <td>multiple_object</td>\n",
       "      <td>0.197670</td>\n",
       "      <td>17083</td>\n",
       "      <td>raw</td>\n",
       "    </tr>\n",
       "    <tr>\n",
       "      <th>3</th>\n",
       "      <td>other_SN</td>\n",
       "      <td>0.045023</td>\n",
       "      <td>3891</td>\n",
       "      <td>raw</td>\n",
       "    </tr>\n",
       "    <tr>\n",
       "      <th>4</th>\n",
       "      <td>other_TNS</td>\n",
       "      <td>0.011155</td>\n",
       "      <td>964</td>\n",
       "      <td>raw</td>\n",
       "    </tr>\n",
       "    <tr>\n",
       "      <th>5</th>\n",
       "      <td>star</td>\n",
       "      <td>0.596353</td>\n",
       "      <td>51538</td>\n",
       "      <td>raw</td>\n",
       "    </tr>\n",
       "    <tr>\n",
       "      <th>6</th>\n",
       "      <td>AGN-like</td>\n",
       "      <td>0.124543</td>\n",
       "      <td>2961</td>\n",
       "      <td>after feature extraction</td>\n",
       "    </tr>\n",
       "    <tr>\n",
       "      <th>7</th>\n",
       "      <td>SNIa</td>\n",
       "      <td>0.067298</td>\n",
       "      <td>1600</td>\n",
       "      <td>after feature extraction</td>\n",
       "    </tr>\n",
       "    <tr>\n",
       "      <th>8</th>\n",
       "      <td>multiple_object</td>\n",
       "      <td>0.185868</td>\n",
       "      <td>4419</td>\n",
       "      <td>after feature extraction</td>\n",
       "    </tr>\n",
       "    <tr>\n",
       "      <th>9</th>\n",
       "      <td>other_SN</td>\n",
       "      <td>0.032050</td>\n",
       "      <td>762</td>\n",
       "      <td>after feature extraction</td>\n",
       "    </tr>\n",
       "    <tr>\n",
       "      <th>10</th>\n",
       "      <td>other_TNS</td>\n",
       "      <td>0.007319</td>\n",
       "      <td>174</td>\n",
       "      <td>after feature extraction</td>\n",
       "    </tr>\n",
       "    <tr>\n",
       "      <th>11</th>\n",
       "      <td>star</td>\n",
       "      <td>0.582923</td>\n",
       "      <td>13859</td>\n",
       "      <td>after feature extraction</td>\n",
       "    </tr>\n",
       "  </tbody>\n",
       "</table>\n",
       "</div>"
      ],
      "text/plain": [
       "               type  sample fraction  number                    sample\n",
       "0          AGN-like         0.077260    6677                       raw\n",
       "1              SNIa         0.072539    6269                       raw\n",
       "2   multiple_object         0.197670   17083                       raw\n",
       "3          other_SN         0.045023    3891                       raw\n",
       "4         other_TNS         0.011155     964                       raw\n",
       "5              star         0.596353   51538                       raw\n",
       "6          AGN-like         0.124543    2961  after feature extraction\n",
       "7              SNIa         0.067298    1600  after feature extraction\n",
       "8   multiple_object         0.185868    4419  after feature extraction\n",
       "9          other_SN         0.032050     762  after feature extraction\n",
       "10        other_TNS         0.007319     174  after feature extraction\n",
       "11             star         0.582923   13859  after feature extraction"
      ]
     },
     "execution_count": 36,
     "metadata": {},
     "output_type": "execute_result"
    }
   ],
   "source": [
    "pop"
   ]
  },
  {
   "cell_type": "markdown",
   "id": "eligible-disorder",
   "metadata": {},
   "source": [
    "# Queried sample"
   ]
  },
  {
   "cell_type": "code",
   "execution_count": 37,
   "id": "limiting-press",
   "metadata": {},
   "outputs": [],
   "source": [
    "res_queried = {}\n",
    "\n",
    "for strategy in ['RandomSampling', 'UncSampling']:\n",
    "    flist = glob.glob('../../../../referee/' + strategy + '/queries/queried_' + strategy + '_v*.dat')\n",
    "\n",
    "    res_queried[strategy] = {}\n",
    "    for name in big_class.keys():\n",
    "        res_queried[strategy][name] = []\n",
    "\n",
    "    for j in range(len(flist)):\n",
    "        data = pd.read_csv(flist[j], delim_whitespace=True, index_col=False)\n",
    "        data_class = np.array([class_dict[item] for item in data['type'].values])\n",
    "        sntype, freq = np.unique(data_class, return_counts=True)\n",
    "\n",
    "        for i in range(len(freq)):\n",
    "            res_queried[strategy][sntype[i]].append(freq[i]/data.shape[0])\n"
   ]
  },
  {
   "cell_type": "code",
   "execution_count": 38,
   "id": "lyric-gambling",
   "metadata": {},
   "outputs": [
    {
     "name": "stdout",
     "output_type": "stream",
     "text": [
      "**** RandomSampling ****\n",
      "multiple_object  --  18.84  --  2.35\n",
      "star  --  58.52  --  2.89\n",
      "AGN-like  --  12.15  --  1.95\n",
      "other_SN  --  3.17  --  0.93\n",
      "other_TNS  --  0.82  --  0.46\n",
      "SNIa  --  6.58  --  1.28\n",
      "\n",
      "\n",
      "**** UncSampling ****\n",
      "multiple_object  --  6.31  --  1.28\n",
      "star  --  21.58  --  2.04\n",
      "AGN-like  --  9.82  --  1.95\n",
      "other_SN  --  16.76  --  1.7\n",
      "other_TNS  --  0.78  --  0.36\n",
      "SNIa  --  44.8  --  1.4\n",
      "\n",
      "\n"
     ]
    }
   ],
   "source": [
    "for strategy in ['RandomSampling', 'UncSampling']:\n",
    "    \n",
    "    print('**** ' + strategy + ' ****')\n",
    "    for key in res_queried[strategy].keys():\n",
    "        print(key, ' -- ', np.round(100* np.mean(res_queried[strategy][key]), 2), \n",
    "              ' -- ', np.round(100*np.std(res_queried[strategy][key]),2))\n",
    "        \n",
    "    print('\\n')"
   ]
  },
  {
   "cell_type": "code",
   "execution_count": 56,
   "id": "objective-avenue",
   "metadata": {},
   "outputs": [],
   "source": [
    "df1 = pd.DataFrame()\n",
    "df1['type'] = res_queried['RandomSampling'].keys()\n",
    "df1['sample fraction'] = [np.mean(res_queried['RandomSampling'][key])\n",
    "                         for key in res_queried['RandomSampling'].keys()]\n",
    "df1['strategy'] = 'RandomSampling'\n",
    "\n",
    "df2 = pd.DataFrame()\n",
    "df2['type'] =  res_queried['UncSampling'].keys()\n",
    "df2['sample fraction'] = [np.mean(res_queried['UncSampling'][key])\n",
    "                         for key in res_queried['UncSampling'].keys()]\n",
    "df2['strategy'] = 'UncSampling'\n",
    "\n",
    "df = pd.concat([df2, df1], ignore_index=True)"
   ]
  },
  {
   "cell_type": "code",
   "execution_count": 68,
   "id": "figured-louisiana",
   "metadata": {},
   "outputs": [
    {
     "data": {
      "image/png": "[encoded data removed]",
      "text/plain": [
       "<Figure size 576x360 with 1 Axes>"
      ]
     },
     "metadata": {
      "needs_background": "light"
     },
     "output_type": "display_data"
    }
   ],
   "source": [
    "c = ['#F5622E', '#15284F']\n",
    "types = ['multiple_objects', 'star', 'AGN-like', 'other_SN', 'other_TNS', 'SNIa']\n",
    "\n",
    "f, ax = plt.subplots(figsize=(8, 5))\n",
    "\n",
    "sns.set_palette('Spectral')\n",
    "sns.barplot(x=\"sample fraction\", y=\"type\", data=df,\n",
    "            hue='strategy', ci=None, palette=c)\n",
    "ax.set(xlim=(0, 0.9), ylabel=\"\")\n",
    "ax.set_xlabel(xlabel=\"fraction of full sample\", fontsize=14)\n",
    "ax.set_yticklabels(types, fontsize=14)\n",
    "sns.despine(left=True, bottom=True)\n",
    "plt.tight_layout()\n",
    "#plt.show()\n",
    "plt.savefig('../../../../referee/plots/queried_classes.pdf')"
   ]
  },
  {
   "cell_type": "markdown",
   "id": "manufactured-stability",
   "metadata": {},
   "source": [
    "# Photometrically classified Ia sample"
   ]
  },
  {
   "cell_type": "code",
   "execution_count": 3,
   "id": "danish-silly",
   "metadata": {},
   "outputs": [],
   "source": [
    "res_photIa = {}\n",
    "\n",
    "for strategy in ['RandomSampling', 'UncSampling']:\n",
    "    res_photIa[strategy] = {}\n",
    "    for name in big_class.keys():\n",
    "        res_photIa[strategy][name] = []\n",
    "    res_photIa[strategy]['tot'] = []\n",
    "    \n",
    "    flist = glob.glob('../../../../referee/' + strategy + '/class_prob/v*/class_prob_' + \\\n",
    "                      strategy + '_loop_299.csv')\n",
    "\n",
    "    for name in flist:\n",
    "        data = pd.read_csv(name)\n",
    "        phot_Ia = data[data['prob_Ia']> 0.5]\n",
    "        data_class = np.array([class_dict[item] for item in phot_Ia['type'].values])\n",
    "        sntype, freq = np.unique(data_class, return_counts=True)\n",
    "\n",
    "        for i in range(len(freq)):\n",
    "            res_photIa[strategy][sntype[i]].append(freq[i]/data_class.shape[0])\n",
    "        res_photIa[strategy]['tot'].append(phot_Ia.shape[0])"
   ]
  },
  {
   "cell_type": "code",
   "execution_count": 4,
   "id": "earlier-pixel",
   "metadata": {},
   "outputs": [
    {
     "data": {
      "text/plain": [
       "0.0805879104638081"
      ]
     },
     "execution_count": 4,
     "metadata": {},
     "output_type": "execute_result"
    }
   ],
   "source": [
    "np.mean(res_photIa['RandomSampling']['other_SN'])"
   ]
  },
  {
   "cell_type": "code",
   "execution_count": 5,
   "id": "seeing-saint",
   "metadata": {},
   "outputs": [
    {
     "name": "stdout",
     "output_type": "stream",
     "text": [
      "**** RandomSampling ****\n",
      "multiple_object  --  0.54  --  0.37\n",
      "star  --  1.02  --  0.68\n",
      "AGN-like  --  4.27  --  5.88\n",
      "other_SN  --  8.06  --  2.87\n",
      "other_TNS  --  0.38  --  0.21\n",
      "SNIa  --  86.82  --  7.99\n",
      "\n",
      "\n",
      "**** UncSampling ****\n",
      "multiple_object  --  0.55  --  0.32\n",
      "star  --  1.63  --  0.63\n",
      "AGN-like  --  0.7  --  0.5\n",
      "other_SN  --  8.11  --  0.94\n",
      "other_TNS  --  0.23  --  0.1\n",
      "SNIa  --  88.8  --  1.69\n",
      "\n",
      "\n"
     ]
    }
   ],
   "source": [
    "for strategy in ['RandomSampling', 'UncSampling']:\n",
    "    \n",
    "    print('**** ' + strategy + ' ****')\n",
    "    for key in res_photIa[strategy].keys():\n",
    "        if key != 'tot':\n",
    "            print(key, ' -- ', np.round(100* np.mean(res_photIa[strategy][key]), 2), \n",
    "                  ' -- ', np.round(100*np.std(res_photIa[strategy][key]),2))\n",
    "    print('\\n')"
   ]
  },
  {
   "cell_type": "code",
   "execution_count": 6,
   "id": "frozen-carrier",
   "metadata": {},
   "outputs": [
    {
     "name": "stdout",
     "output_type": "stream",
     "text": [
      "RandomSampling    442.67  +/-  145.06026713059643\n",
      "\n",
      "\n",
      "UncSampling    895.99  +/-  32.99348268976769\n",
      "\n",
      "\n"
     ]
    }
   ],
   "source": [
    "for strategy in ['RandomSampling', 'UncSampling']:\n",
    "    print(strategy,'  ', np.mean(res_photIa[strategy]['tot']), ' +/- ', \n",
    "          np.std(res_photIa[strategy]['tot']))\n",
    "    print('\\n')"
   ]
  },
  {
   "cell_type": "code",
   "execution_count": 63,
   "id": "numerous-spelling",
   "metadata": {},
   "outputs": [],
   "source": [
    "res = []\n",
    "\n",
    "for strategy in ['RandomSampling', 'UncSampling']:\n",
    "    for key in big_class.keys():\n",
    "        mean = np.mean(res_photIa[strategy][key])\n",
    "        std = np.std(res_photIa[strategy][key])\n",
    "    \n",
    "        line = [key, mean, std, strategy]\n",
    "        res.append(line)\n",
    "        \n",
    "res2 = pd.DataFrame(data=res, columns=['type', 'perc', 'std', 'strategy'])"
   ]
  },
  {
   "cell_type": "code",
   "execution_count": 64,
   "id": "helpful-drunk",
   "metadata": {},
   "outputs": [
    {
     "data": {
      "image/png": "[encoded data removed]",
      "text/plain": [
       "<Figure size 576x360 with 1 Axes>"
      ]
     },
     "metadata": {
      "needs_background": "light"
     },
     "output_type": "display_data"
    }
   ],
   "source": [
    "c = ['#F5622E', '#15284F']\n",
    "types = ['multiple_objects', 'star', 'AGN-like', 'other_SN', 'other_TNS', 'SNIa']\n",
    "\n",
    "f, ax = plt.subplots(figsize=(8, 5))\n",
    "\n",
    "sns.set_palette('Spectral')\n",
    "sns.barplot(x=\"perc\", y=\"type\", data=res2,\n",
    "            hue='strategy', ci=None, palette=c)\n",
    "ax.set(xlim=(0, 0.9), ylabel=\"\")\n",
    "ax.set_xlabel(xlabel=\"fraction of full sample\", fontsize=14)\n",
    "ax.set_yticklabels(types, fontsize=14)\n",
    "sns.despine(left=True, bottom=True)\n",
    "plt.tight_layout()\n",
    "#plt.show()\n",
    "plt.savefig('../../../../referee/plots/photom_classified.pdf')"
   ]
  },
  {
   "cell_type": "code",
   "execution_count": null,
   "id": "prepared-smell",
   "metadata": {},
   "outputs": [],
   "source": []
  },
  {
   "cell_type": "code",
   "execution_count": 65,
   "id": "brief-reply",
   "metadata": {},
   "outputs": [
    {
     "data": {
      "text/html": [
       "<div>\n",
       "<style scoped>\n",
       "    .dataframe tbody tr th:only-of-type {\n",
       "        vertical-align: middle;\n",
       "    }\n",
       "\n",
       "    .dataframe tbody tr th {\n",
       "        vertical-align: top;\n",
       "    }\n",
       "\n",
       "    .dataframe thead th {\n",
       "        text-align: right;\n",
       "    }\n",
       "</style>\n",
       "<table border=\"1\" class=\"dataframe\">\n",
       "  <thead>\n",
       "    <tr style=\"text-align: right;\">\n",
       "      <th></th>\n",
       "      <th>type</th>\n",
       "      <th>perc</th>\n",
       "      <th>std</th>\n",
       "      <th>strategy</th>\n",
       "    </tr>\n",
       "  </thead>\n",
       "  <tbody>\n",
       "    <tr>\n",
       "      <th>0</th>\n",
       "      <td>multiple_object</td>\n",
       "      <td>0.005260</td>\n",
       "      <td>0.003679</td>\n",
       "      <td>RandomSampling</td>\n",
       "    </tr>\n",
       "    <tr>\n",
       "      <th>1</th>\n",
       "      <td>star</td>\n",
       "      <td>0.010118</td>\n",
       "      <td>0.006865</td>\n",
       "      <td>RandomSampling</td>\n",
       "    </tr>\n",
       "    <tr>\n",
       "      <th>2</th>\n",
       "      <td>AGN-like</td>\n",
       "      <td>0.042728</td>\n",
       "      <td>0.058784</td>\n",
       "      <td>RandomSampling</td>\n",
       "    </tr>\n",
       "    <tr>\n",
       "      <th>3</th>\n",
       "      <td>other_SN</td>\n",
       "      <td>0.080608</td>\n",
       "      <td>0.028685</td>\n",
       "      <td>RandomSampling</td>\n",
       "    </tr>\n",
       "    <tr>\n",
       "      <th>4</th>\n",
       "      <td>other_TNS</td>\n",
       "      <td>0.003715</td>\n",
       "      <td>0.001960</td>\n",
       "      <td>RandomSampling</td>\n",
       "    </tr>\n",
       "    <tr>\n",
       "      <th>5</th>\n",
       "      <td>SNIa</td>\n",
       "      <td>0.868398</td>\n",
       "      <td>0.080010</td>\n",
       "      <td>RandomSampling</td>\n",
       "    </tr>\n",
       "    <tr>\n",
       "      <th>6</th>\n",
       "      <td>multiple_object</td>\n",
       "      <td>0.005475</td>\n",
       "      <td>0.003230</td>\n",
       "      <td>UncSampling</td>\n",
       "    </tr>\n",
       "    <tr>\n",
       "      <th>7</th>\n",
       "      <td>star</td>\n",
       "      <td>0.016326</td>\n",
       "      <td>0.006300</td>\n",
       "      <td>UncSampling</td>\n",
       "    </tr>\n",
       "    <tr>\n",
       "      <th>8</th>\n",
       "      <td>AGN-like</td>\n",
       "      <td>0.006957</td>\n",
       "      <td>0.004970</td>\n",
       "      <td>UncSampling</td>\n",
       "    </tr>\n",
       "    <tr>\n",
       "      <th>9</th>\n",
       "      <td>other_SN</td>\n",
       "      <td>0.081067</td>\n",
       "      <td>0.009358</td>\n",
       "      <td>UncSampling</td>\n",
       "    </tr>\n",
       "    <tr>\n",
       "      <th>10</th>\n",
       "      <td>other_TNS</td>\n",
       "      <td>0.002322</td>\n",
       "      <td>0.001042</td>\n",
       "      <td>UncSampling</td>\n",
       "    </tr>\n",
       "    <tr>\n",
       "      <th>11</th>\n",
       "      <td>SNIa</td>\n",
       "      <td>0.888024</td>\n",
       "      <td>0.016929</td>\n",
       "      <td>UncSampling</td>\n",
       "    </tr>\n",
       "  </tbody>\n",
       "</table>\n",
       "</div>"
      ],
      "text/plain": [
       "               type      perc       std        strategy\n",
       "0   multiple_object  0.005260  0.003679  RandomSampling\n",
       "1              star  0.010118  0.006865  RandomSampling\n",
       "2          AGN-like  0.042728  0.058784  RandomSampling\n",
       "3          other_SN  0.080608  0.028685  RandomSampling\n",
       "4         other_TNS  0.003715  0.001960  RandomSampling\n",
       "5              SNIa  0.868398  0.080010  RandomSampling\n",
       "6   multiple_object  0.005475  0.003230     UncSampling\n",
       "7              star  0.016326  0.006300     UncSampling\n",
       "8          AGN-like  0.006957  0.004970     UncSampling\n",
       "9          other_SN  0.081067  0.009358     UncSampling\n",
       "10        other_TNS  0.002322  0.001042     UncSampling\n",
       "11             SNIa  0.888024  0.016929     UncSampling"
      ]
     },
     "execution_count": 65,
     "metadata": {},
     "output_type": "execute_result"
    }
   ],
   "source": [
    "res2"
   ]
  },
  {
   "cell_type": "markdown",
   "id": "governmental-series",
   "metadata": {},
   "source": [
    "# number of Ia in test sample for best model"
   ]
  },
  {
   "cell_type": "code",
   "execution_count": 11,
   "id": "catholic-compilation",
   "metadata": {},
   "outputs": [],
   "source": [
    "fname = '../../../../referee/UncSampling/queries/queried_UncSampling_v68.dat'"
   ]
  },
  {
   "cell_type": "code",
   "execution_count": 14,
   "id": "improved-flashing",
   "metadata": {},
   "outputs": [],
   "source": [
    "data = pd.read_csv(fname, index_col=False, delim_whitespace=True)"
   ]
  },
  {
   "cell_type": "code",
   "execution_count": 16,
   "id": "boolean-batman",
   "metadata": {},
   "outputs": [
    {
     "data": {
      "text/plain": [
       "132"
      ]
     },
     "execution_count": 16,
     "metadata": {},
     "output_type": "execute_result"
    }
   ],
   "source": [
    "sum(data['type'].values == 'Ia')"
   ]
  },
  {
   "cell_type": "code",
   "execution_count": 17,
   "id": "suspended-aberdeen",
   "metadata": {},
   "outputs": [
    {
     "data": {
      "text/plain": [
       "1463"
      ]
     },
     "execution_count": 17,
     "metadata": {},
     "output_type": "execute_result"
    }
   ],
   "source": [
    "1600-132-5"
   ]
  },
  {
   "cell_type": "code",
   "execution_count": null,
   "id": "welsh-classic",
   "metadata": {},
   "outputs": [],
   "source": []
  }
 ],
 "metadata": {
  "kernelspec": {
   "display_name": "Python 3",
   "language": "python",
   "name": "python3"
  },
  "language_info": {
   "codemirror_mode": {
    "name": "ipython",
    "version": 3
   },
   "file_extension": ".py",
   "mimetype": "text/x-python",
   "name": "python",
   "nbconvert_exporter": "python",
   "pygments_lexer": "ipython3",
   "version": "3.7.1"
  }
 },
 "nbformat": 4,
 "nbformat_minor": 5
}
