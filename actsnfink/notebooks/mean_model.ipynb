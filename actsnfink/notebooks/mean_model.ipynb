{
 "cells": [
  {
   "cell_type": "code",
   "execution_count": 1,
   "id": "interstate-blade",
   "metadata": {},
   "outputs": [],
   "source": [
    "import numpy as np\n",
    "import pandas as pd\n",
    "import os\n",
    "from sklearn.ensemble import RandomForestClassifier\n",
    "import pickle\n",
    "from actsnclass.metrics import get_snpcc_metric\n",
    "from shutil import copyfile\n",
    "from sklearn.metrics import roc_curve, auc\n",
    "from scipy.interpolate import interp1d"
   ]
  },
  {
   "cell_type": "code",
   "execution_count": 1,
   "id": "minute-female",
   "metadata": {},
   "outputs": [],
   "source": [
    "import sklearn"
   ]
  },
  {
   "cell_type": "code",
   "execution_count": 2,
   "id": "sought-element",
   "metadata": {},
   "outputs": [
    {
     "data": {
      "text/plain": [
       "'1.0.2'"
      ]
     },
     "execution_count": 2,
     "metadata": {},
     "output_type": "execute_result"
    }
   ],
   "source": [
    "sklearn.__version__"
   ]
  },
  {
   "cell_type": "code",
   "execution_count": 2,
   "id": "federal-corps",
   "metadata": {},
   "outputs": [],
   "source": [
    "dirname = '../../../referee/'"
   ]
  },
  {
   "cell_type": "code",
   "execution_count": 3,
   "id": "dangerous-forest",
   "metadata": {},
   "outputs": [],
   "source": [
    "all_fom = []\n",
    "\n",
    "for i in range(100):\n",
    "    fname = dirname + '/UncSampling/metrics/metrics_UncSampling_v' + str(i) + '.dat'\n",
    "    data = pd.read_csv(fname, index_col=False, delim_whitespace=True)\n",
    "    all_fom.append([i, data.iloc[299]['fom']])\n",
    "    \n",
    "all_fom = np.array(all_fom)"
   ]
  },
  {
   "cell_type": "code",
   "execution_count": 4,
   "id": "tropical-dispatch",
   "metadata": {},
   "outputs": [],
   "source": [
    "fom_max = np.max(all_fom[:,1])"
   ]
  },
  {
   "cell_type": "code",
   "execution_count": 5,
   "id": "middle-browser",
   "metadata": {},
   "outputs": [],
   "source": [
    "distance =  abs(all_fom[ :,1] - fom_max)\n",
    "indx = np.argsort(distance)"
   ]
  },
  {
   "cell_type": "code",
   "execution_count": 6,
   "id": "intimate-excerpt",
   "metadata": {},
   "outputs": [
    {
     "data": {
      "text/plain": [
       "0.0"
      ]
     },
     "execution_count": 6,
     "metadata": {},
     "output_type": "execute_result"
    }
   ],
   "source": [
    "distance[indx[0]]"
   ]
  },
  {
   "cell_type": "code",
   "execution_count": 7,
   "id": "tired-taiwan",
   "metadata": {},
   "outputs": [
    {
     "data": {
      "text/plain": [
       "68"
      ]
     },
     "execution_count": 7,
     "metadata": {},
     "output_type": "execute_result"
    }
   ],
   "source": [
    "indx[0]"
   ]
  },
  {
   "cell_type": "code",
   "execution_count": 8,
   "id": "intended-theta",
   "metadata": {},
   "outputs": [
    {
     "data": {
      "text/plain": [
       "array([68.        ,  0.42013397])"
      ]
     },
     "execution_count": 8,
     "metadata": {},
     "output_type": "execute_result"
    }
   ],
   "source": [
    "all_fom[indx[0]]"
   ]
  },
  {
   "cell_type": "code",
   "execution_count": 9,
   "id": "greater-cursor",
   "metadata": {},
   "outputs": [],
   "source": [
    "fname = dirname + '/UncSampling/training_samples/initialtrain_v' + str(indx[0]) + '.csv'\n",
    "data_train = pd.read_csv(fname, index_col=False)\n",
    "\n",
    "fname = dirname + '/UncSampling/test_samples/initial_test_v' + str(indx[0]) + '.csv'\n",
    "data_test = pd.read_csv(fname, index_col=False)\n",
    "\n",
    "fname = dirname + '/UncSampling/queries/queried_UncSampling_v' + str(indx[0]) + '.dat'\n",
    "data_query = pd.read_csv(fname, index_col=False, delim_whitespace=True)"
   ]
  },
  {
   "cell_type": "code",
   "execution_count": 10,
   "id": "acceptable-actress",
   "metadata": {},
   "outputs": [],
   "source": [
    "flag = np.array([item in data_query['id'].values for item in data_test['objectId'].values])\n",
    "\n",
    "data_train2 = pd.concat([data_train, data_test[flag]], ignore_index=True)\n",
    "data_test2 = data_test[~flag]"
   ]
  },
  {
   "cell_type": "code",
   "execution_count": 11,
   "id": "joined-walter",
   "metadata": {},
   "outputs": [
    {
     "data": {
      "text/plain": [
       "RandomForestClassifier(bootstrap=True, ccp_alpha=0.0, class_weight=None,\n",
       "                       criterion='gini', max_depth=None, max_features='auto',\n",
       "                       max_leaf_nodes=None, max_samples=None,\n",
       "                       min_impurity_decrease=0.0, min_impurity_split=None,\n",
       "                       min_samples_leaf=1, min_samples_split=2,\n",
       "                       min_weight_fraction_leaf=0.0, n_estimators=1000,\n",
       "                       n_jobs=None, oob_score=False, random_state=42, verbose=0,\n",
       "                       warm_start=False)"
      ]
     },
     "execution_count": 11,
     "metadata": {},
     "output_type": "execute_result"
    }
   ],
   "source": [
    "clf = RandomForestClassifier(random_state=42, n_estimators=1000)\n",
    "clf.fit(data_train2[list(data_train2.keys())[:-2]], data_train2['type'].values == 'Ia')"
   ]
  },
  {
   "cell_type": "code",
   "execution_count": 12,
   "id": "capable-poster",
   "metadata": {},
   "outputs": [
    {
     "data": {
      "text/plain": [
       "0.967824419347965"
      ]
     },
     "execution_count": 12,
     "metadata": {},
     "output_type": "execute_result"
    }
   ],
   "source": [
    "clf.score(data_test2[list(data_test2.keys())[:-2]], data_test2['type'].values == 'Ia')"
   ]
  },
  {
   "cell_type": "code",
   "execution_count": 13,
   "id": "unable-operator",
   "metadata": {},
   "outputs": [],
   "source": [
    "pred = clf.predict(data_test2[list(data_test2.keys())[:-2]])"
   ]
  },
  {
   "cell_type": "code",
   "execution_count": 14,
   "id": "agricultural-radio",
   "metadata": {},
   "outputs": [
    {
     "data": {
      "text/plain": [
       "(['accuracy', 'efficiency', 'purity', 'fom'],\n",
       " [0.967824419347965,\n",
       "  0.5372522214627478,\n",
       "  0.9097222222222222,\n",
       "  0.4140002412448233])"
      ]
     },
     "execution_count": 14,
     "metadata": {},
     "output_type": "execute_result"
    }
   ],
   "source": [
    "get_snpcc_metric(pred, data_test2['type'].values == 'Ia')"
   ]
  },
  {
   "cell_type": "code",
   "execution_count": 18,
   "id": "danish-stewart",
   "metadata": {},
   "outputs": [],
   "source": [
    "name_prob = dirname + '/UncSampling/class_prob/v' + str(i) + \\\n",
    "                 '/class_prob_UncSampling_loop_299.csv'\n",
    "data_prob = pd.read_csv(name_prob, index_col=False)\n",
    "    \n",
    "label = data_prob['type'].values == 'Ia'\n",
    "fpr, tpr, thresholds = roc_curve(label, data_prob['prob_Ia'].values)\n",
    "roc_auc = auc(fpr, tpr)\n",
    "    \n",
    "fpr_int = interp1d(thresholds, fpr)\n",
    "tpr_int = interp1d(thresholds, tpr)"
   ]
  },
  {
   "cell_type": "raw",
   "id": "pointed-fantasy",
   "metadata": {},
   "source": [
    "pickle.dump(clf, open(dirname + 'UncSampling/models/model_optimum.pkl', \n",
    "                      'wb'))"
   ]
  },
  {
   "cell_type": "markdown",
   "id": "regional-buddy",
   "metadata": {},
   "source": [
    "# Identify alerts for which we should NOT provide classification"
   ]
  },
  {
   "cell_type": "code",
   "execution_count": 21,
   "id": "textile-excellence",
   "metadata": {},
   "outputs": [],
   "source": [
    "fname_train = dirname + 'UncSampling/training_samples/initialtrain_v' + str(indx[0]) + '.csv'\n",
    "data_train = pd.read_csv(fname_train)\n",
    "\n",
    "fname_query = dirname + 'UncSampling/queries/queried_UncSampling_v' + str(indx[0]) + '.dat'\n",
    "data_query = pd.read_csv(fname_query, delim_whitespace=True, index_col=False)"
   ]
  },
  {
   "cell_type": "code",
   "execution_count": 22,
   "id": "human-croatia",
   "metadata": {},
   "outputs": [],
   "source": [
    "all_ids = list(data_train['objectId'].values) + list(data_query['id'].values)"
   ]
  },
  {
   "cell_type": "raw",
   "id": "unauthorized-techno",
   "metadata": {},
   "source": [
    "op1 = open(dirname + '/data/prohibited_alerts.csv', 'w')\n",
    "op1.write('candid\\n')\n",
    "for item in all_ids:\n",
    "    op1.write(str(item) + '\\n')\n",
    "op1.close()"
   ]
  },
  {
   "cell_type": "code",
   "execution_count": null,
   "id": "departmental-blade",
   "metadata": {},
   "outputs": [],
   "source": []
  }
 ],
 "metadata": {
  "kernelspec": {
   "display_name": "Python 3",
   "language": "python",
   "name": "python3"
  },
  "language_info": {
   "codemirror_mode": {
    "name": "ipython",
    "version": 3
   },
   "file_extension": ".py",
   "mimetype": "text/x-python",
   "name": "python",
   "nbconvert_exporter": "python",
   "pygments_lexer": "ipython3",
   "version": "3.7.1"
  }
 },
 "nbformat": 4,
 "nbformat_minor": 5
}
